{
 "cells": [
  {
   "cell_type": "code",
   "execution_count": 1,
   "metadata": {},
   "outputs": [
    {
     "name": "stdout",
     "output_type": "stream",
     "text": [
      "Welcome to JupyROOT 6.18/04\n"
     ]
    }
   ],
   "source": [
    "#import uproot\n",
    "import tensorflow as tf\n",
    "import numpy as np\n",
    "import pandas as pd\n",
    "import tensorflow.keras as keras\n",
    "import tensorflow.keras.backend as kb\n",
    "\n",
    "import ROOT\n",
    "\n",
    "from tensorflow.keras.models import Model, load_model\n",
    "from tensorflow.keras.layers import Input, Dense, Activation, BatchNormalization, Dropout\n",
    "from tensorflow.keras.callbacks import ReduceLROnPlateau, ModelCheckpoint, Callback, TensorBoard\n",
    "from tensorflow.keras.utils import Sequence, plot_model\n",
    "\n",
    "import matplotlib.pyplot as plt\n"
   ]
  },
  {
   "cell_type": "code",
   "execution_count": 2,
   "metadata": {},
   "outputs": [],
   "source": [
    "import ROOT"
   ]
  },
  {
   "cell_type": "code",
   "execution_count": 3,
   "metadata": {},
   "outputs": [
    {
     "ename": "ModuleNotFoundError",
     "evalue": "No module named 'pyroot'",
     "output_type": "error",
     "traceback": [
      "\u001b[0;31m---------------------------------------------------------------------------\u001b[0m",
      "\u001b[0;31mModuleNotFoundError\u001b[0m                       Traceback (most recent call last)",
      "\u001b[0;32m<ipython-input-3-bcb5f33d6f78>\u001b[0m in \u001b[0;36m<module>\u001b[0;34m\u001b[0m\n\u001b[0;32m----> 1\u001b[0;31m \u001b[0;32mimport\u001b[0m \u001b[0mpyroot\u001b[0m\u001b[0;34m\u001b[0m\u001b[0;34m\u001b[0m\u001b[0m\n\u001b[0m",
      "\u001b[0;32m/usr/local/Cellar/root/6.18.04/lib/root/ROOT.py\u001b[0m in \u001b[0;36m_importhook\u001b[0;34m(name, *args, **kwds)\u001b[0m\n\u001b[1;32m    531\u001b[0m       \u001b[0;32mexcept\u001b[0m \u001b[0mException\u001b[0m\u001b[0;34m:\u001b[0m\u001b[0;34m\u001b[0m\u001b[0;34m\u001b[0m\u001b[0m\n\u001b[1;32m    532\u001b[0m          \u001b[0;32mpass\u001b[0m\u001b[0;34m\u001b[0m\u001b[0;34m\u001b[0m\u001b[0m\n\u001b[0;32m--> 533\u001b[0;31m    \u001b[0;32mreturn\u001b[0m \u001b[0m_orig_ihook\u001b[0m\u001b[0;34m(\u001b[0m \u001b[0mname\u001b[0m\u001b[0;34m,\u001b[0m \u001b[0;34m*\u001b[0m\u001b[0margs\u001b[0m\u001b[0;34m,\u001b[0m \u001b[0;34m**\u001b[0m\u001b[0mkwds\u001b[0m \u001b[0;34m)\u001b[0m\u001b[0;34m\u001b[0m\u001b[0;34m\u001b[0m\u001b[0m\n\u001b[0m\u001b[1;32m    534\u001b[0m \u001b[0;34m\u001b[0m\u001b[0m\n\u001b[1;32m    535\u001b[0m \u001b[0m__builtin__\u001b[0m\u001b[0;34m.\u001b[0m\u001b[0m__import__\u001b[0m \u001b[0;34m=\u001b[0m \u001b[0m_importhook\u001b[0m\u001b[0;34m\u001b[0m\u001b[0;34m\u001b[0m\u001b[0m\n",
      "\u001b[0;31mModuleNotFoundError\u001b[0m: No module named 'pyroot'"
     ]
    }
   ],
   "source": [
    "import pyroot"
   ]
  },
  {
   "cell_type": "code",
   "execution_count": 4,
   "metadata": {},
   "outputs": [
    {
     "name": "stdout",
     "output_type": "stream",
     "text": [
      "Collecting pyroot\n",
      "\u001b[31m  ERROR: Could not find a version that satisfies the requirement pyroot (from versions: none)\u001b[0m\n",
      "\u001b[31mERROR: No matching distribution found for pyroot\u001b[0m\n",
      "Note: you may need to restart the kernel to use updated packages.\n"
     ]
    }
   ],
   "source": [
    "pip install pyroot"
   ]
  },
  {
   "cell_type": "code",
   "execution_count": 8,
   "metadata": {},
   "outputs": [],
   "source": [
    "#file = uproot.open(\"./data/gun_k0L_allgev_FTFP_BERT_90000evt_ILD_l5_v02steel.root\")\n",
    "trainvalidation = ROOT.TFile.Open(\"./tmva/gun_k0L_allgev_FTFP_BERT_160000evt_ILD_l5_v02steel.root\")\n",
    "#testfile = ROOT.TFile.Open(\"./data/gun_k0L_5gev_FTFP_BERT_5000evt_ILD_l5_v02steel.root\")\n"
   ]
  },
  {
   "cell_type": "code",
   "execution_count": 9,
   "metadata": {},
   "outputs": [],
   "source": [
    "train = trainvalidation.Get( \"train\" )\n",
    "validation = trainvalidation.Get( \"validation\" )\n",
    "#test = testfile.Get( \"tree\" )"
   ]
  },
  {
   "cell_type": "code",
   "execution_count": null,
   "metadata": {},
   "outputs": [],
   "source": [
    "train."
   ]
  },
  {
   "cell_type": "code",
   "execution_count": 11,
   "metadata": {},
   "outputs": [
    {
     "ename": "AttributeError",
     "evalue": "'TObject' object has no attribute 'AsMatrix'",
     "output_type": "error",
     "traceback": [
      "\u001b[0;31m---------------------------------------------------------------------------\u001b[0m",
      "\u001b[0;31mAttributeError\u001b[0m                            Traceback (most recent call last)",
      "\u001b[0;32m<ipython-input-11-c752f4681394>\u001b[0m in \u001b[0;36m<module>\u001b[0;34m\u001b[0m\n\u001b[1;32m      1\u001b[0m \u001b[0;31m#x = tree.AsMatrix(  { \"energy\", \"eecal\", \"ehcal\" } )\u001b[0m\u001b[0;34m\u001b[0m\u001b[0;34m\u001b[0m\u001b[0;34m\u001b[0m\u001b[0m\n\u001b[0;32m----> 2\u001b[0;31m \u001b[0mx1t\u001b[0m \u001b[0;34m=\u001b[0m \u001b[0mtrain\u001b[0m\u001b[0;34m.\u001b[0m\u001b[0mAsMatrix\u001b[0m\u001b[0;34m(\u001b[0m  \u001b[0;34m[\u001b[0m \u001b[0;34m\"energy\"\u001b[0m \u001b[0;34m]\u001b[0m \u001b[0;34m)\u001b[0m\u001b[0;34m\u001b[0m\u001b[0;34m\u001b[0m\u001b[0m\n\u001b[0m\u001b[1;32m      3\u001b[0m \u001b[0mx2t\u001b[0m \u001b[0;34m=\u001b[0m \u001b[0mtrain\u001b[0m\u001b[0;34m.\u001b[0m\u001b[0mAsMatrix\u001b[0m\u001b[0;34m(\u001b[0m  \u001b[0;34m[\u001b[0m \u001b[0;34m\"eecal\"\u001b[0m \u001b[0;34m]\u001b[0m \u001b[0;34m)\u001b[0m\u001b[0;34m\u001b[0m\u001b[0;34m\u001b[0m\u001b[0m\n\u001b[1;32m      4\u001b[0m \u001b[0mx3t\u001b[0m \u001b[0;34m=\u001b[0m \u001b[0mtrain\u001b[0m\u001b[0;34m.\u001b[0m\u001b[0mAsMatrix\u001b[0m\u001b[0;34m(\u001b[0m  \u001b[0;34m[\u001b[0m \u001b[0;34m\"ehcal\"\u001b[0m \u001b[0;34m]\u001b[0m \u001b[0;34m)\u001b[0m\u001b[0;34m\u001b[0m\u001b[0;34m\u001b[0m\u001b[0m\n\u001b[1;32m      5\u001b[0m \u001b[0mx4t\u001b[0m \u001b[0;34m=\u001b[0m \u001b[0mtrain\u001b[0m\u001b[0;34m.\u001b[0m\u001b[0mAsMatrix\u001b[0m\u001b[0;34m(\u001b[0m  \u001b[0;34m[\u001b[0m \u001b[0;34m\"nhits\"\u001b[0m \u001b[0;34m]\u001b[0m \u001b[0;34m)\u001b[0m\u001b[0;34m\u001b[0m\u001b[0;34m\u001b[0m\u001b[0m\n",
      "\u001b[0;31mAttributeError\u001b[0m: 'TObject' object has no attribute 'AsMatrix'"
     ]
    }
   ],
   "source": [
    "#x = tree.AsMatrix(  { \"energy\", \"eecal\", \"ehcal\" } )\n",
    "x1t = train.AsMatrix(  [ \"energy\" ] )\n",
    "x2t = train.AsMatrix(  [ \"eecal\" ] )\n",
    "x3t = train.AsMatrix(  [ \"ehcal\" ] )\n",
    "x4t = train.AsMatrix(  [ \"nhits\" ] )\n",
    "x5t = train.AsMatrix(  [ \"nhits_ecal\" ] )\n",
    "x6t = train.AsMatrix(  [ \"nhits_hcal\" ] )"
   ]
  },
  {
   "cell_type": "code",
   "execution_count": null,
   "metadata": {},
   "outputs": [],
   "source": [
    "#x = tree.AsMatrix(  { \"energy\", \"eecal\", \"ehcal\" } )\n",
    "x1v = validation.AsMatrix(  [ \"energy\" ] )\n",
    "x2v = validation.AsMatrix(  [ \"eecal\" ] )\n",
    "x3v = validation.AsMatrix(  [ \"ehcal\" ] )\n",
    "x4v = validation.AsMatrix(  [ \"nhits\" ] )\n",
    "x5v = validation.AsMatrix(  [ \"nhits_ecal\" ] )\n",
    "x6v = validation.AsMatrix(  [ \"nhits_hcal\" ] )"
   ]
  },
  {
   "cell_type": "code",
   "execution_count": null,
   "metadata": {},
   "outputs": [],
   "source": [
    "#x = tree.AsMatrix(  { \"energy\", \"eecal\", \"ehcal\" } )\n",
    "#x1 = test.AsMatrix(  [ \"energy\" ] )\n",
    "#x2 = test.AsMatrix(  [ \"eecal\" ] )\n",
    "#x3 = test.AsMatrix(  [ \"ehcal\" ] )\n",
    "#x4 = test.AsMatrix(  [ \"nhits\" ] )\n",
    "#x5 = test.AsMatrix(  [ \"nhits_ecal\" ] )\n",
    "#x6 = test.AsMatrix(  [ \"nhits_hcal\" ] )"
   ]
  },
  {
   "cell_type": "code",
   "execution_count": null,
   "metadata": {},
   "outputs": [],
   "source": [
    "xt = x1t, x2t, x3t, x4t, x5t, x6t\n",
    "xv = x1v, x2v, x3v, x4v, x5v, x6v\n",
    "#xc = x1, x2, x3, x4, x5, x6"
   ]
  },
  {
   "cell_type": "code",
   "execution_count": null,
   "metadata": {},
   "outputs": [],
   "source": [
    "ytrain = train.AsMatrix( [ \"mc_energy\" ] )\n",
    "yvalidation = validation.AsMatrix( [ \"mc_energy\" ] )\n",
    "#ytest = test.AsMatrix( [ \"mc_energy\" ] )"
   ]
  },
  {
   "cell_type": "code",
   "execution_count": null,
   "metadata": {},
   "outputs": [],
   "source": [
    "#x = tree.arrays( {\"energy\", \"eecal\", \"ehcal\" } )"
   ]
  },
  {
   "cell_type": "code",
   "execution_count": null,
   "metadata": {},
   "outputs": [],
   "source": [
    "#y = tree.array(\"mc_energy\")"
   ]
  },
  {
   "cell_type": "code",
   "execution_count": null,
   "metadata": {},
   "outputs": [],
   "source": [
    "#X_train = np.array( x )\n",
    "#Y_train = np.array( y )"
   ]
  },
  {
   "cell_type": "code",
   "execution_count": 5,
   "metadata": {},
   "outputs": [],
   "source": [
    "#data = x, y\n",
    "\n",
    "#import matplotlib.pyplot as plt\n",
    "#plt.hist(data)\n",
    "#plt.savefig(\"var1.png\")\n",
    "\n",
    "#def loss(y_true, y_pred):\n",
    "#    return K.mean(K.square(y_pred - y_true)/, axis=-1)\n",
    "\n",
    "from tensorflow.keras import losses\n"
   ]
  },
  {
   "cell_type": "code",
   "execution_count": null,
   "metadata": {},
   "outputs": [],
   "source": [
    "model = keras.Sequential([\n",
    "#    keras.layers.Dense(10, activation='sigmoid'),\n",
    "    keras.layers.Dense(26, activation='sigmoid', input_shape=[1]),\n",
    "#    keras.layers.Dense(32, activation='sigmoid'),\n",
    "#    keras.layers.Dense(32, activation='sigmoid'),    \n",
    "#    keras.layers.Dense(32, activation='sigmoid'),\n",
    "#    keras.layers.Dense(32, activation=tf.nn.relu),\n",
    "    keras.layers.Dense(1)\n",
    "  ])"
   ]
  },
  {
   "cell_type": "code",
   "execution_count": null,
   "metadata": {},
   "outputs": [],
   "source": [
    "#keras.losses.mean_squared_error(y_true, y_pred)\n",
    "#keras.losses.mean_squared_error(ytrain, y_pred)"
   ]
  },
  {
   "cell_type": "code",
   "execution_count": null,
   "metadata": {},
   "outputs": [],
   "source": [
    "optimizer = keras.optimizers.RMSprop(0.0099)\n",
    "#model.compile(loss='mean_squared_error',optimizer=optimizer)\n",
    "model.compile(loss=losses.mean_squared_error)\n",
    "history_train = model.fit( xt, ytrain, epochs=50 )\n",
    "#history_validation = model.fit( xv, yvalidation, epochs=50 )\n",
    "#history_test = model.fit(xc, ytest, epochs=50)"
   ]
  },
  {
   "cell_type": "code",
   "execution_count": null,
   "metadata": {},
   "outputs": [],
   "source": [
    "score = model.evaluate(xv, yvalidation, verbose=0)\n",
    "#print('Test score:', score[0])\n",
    "#print('Test accuracy:', score[1])"
   ]
  },
  {
   "cell_type": "code",
   "execution_count": null,
   "metadata": {},
   "outputs": [],
   "source": [
    "score"
   ]
  },
  {
   "cell_type": "code",
   "execution_count": null,
   "metadata": {},
   "outputs": [],
   "source": [
    "#model.predict( [ 5 ] )\n",
    "test2 = ROOT.TFile.Open(\"./data/gun_k0L_60gev_FTFP_BERT_5000evt_ILD_l5_v02steel.root\")\n",
    "test_tree = test2.Get( \"tree\" )\n",
    "test_x1 = test_tree.AsMatrix(  [ \"energy\" ] )\n",
    "test_x2 = test_tree.AsMatrix(  [ \"eecal\" ] )\n",
    "test_x3 = test_tree.AsMatrix(  [ \"ehcal\" ] )\n",
    "test_x4 = test_tree.AsMatrix(  [ \"nhits\" ] )\n",
    "test_x5 = test_tree.AsMatrix(  [ \"nhits_ecal\" ] )\n",
    "test_x6 = test_tree.AsMatrix(  [ \"nhits_hcal\" ] )\n",
    "\n",
    "test_x = test_x1, test_x2, test_x3, test_x4, test_x5, test_x6\n",
    "#test_x\n"
   ]
  },
  {
   "cell_type": "code",
   "execution_count": 6,
   "metadata": {},
   "outputs": [],
   "source": [
    "from pandas import DataFrame\n",
    "import seaborn as sn\n"
   ]
  },
  {
   "cell_type": "code",
   "execution_count": null,
   "metadata": {},
   "outputs": [],
   "source": [
    "one = test_x1\n",
    "two = test_x2"
   ]
  },
  {
   "cell_type": "code",
   "execution_count": null,
   "metadata": {},
   "outputs": [],
   "source": [
    "cols = pd.MultiIndex.from_product([one, two])"
   ]
  },
  {
   "cell_type": "code",
   "execution_count": null,
   "metadata": {},
   "outputs": [],
   "source": [
    "df = DataFrame(test_x1)"
   ]
  },
  {
   "cell_type": "code",
   "execution_count": null,
   "metadata": {},
   "outputs": [],
   "source": [
    "matrix = df.corr"
   ]
  },
  {
   "cell_type": "code",
   "execution_count": null,
   "metadata": {},
   "outputs": [],
   "source": [
    "sn.heatmap(matrix, annot=True)"
   ]
  },
  {
   "cell_type": "code",
   "execution_count": null,
   "metadata": {},
   "outputs": [],
   "source": []
  },
  {
   "cell_type": "code",
   "execution_count": null,
   "metadata": {},
   "outputs": [],
   "source": [
    "model.predict( [ 5 ] )"
   ]
  },
  {
   "cell_type": "code",
   "execution_count": null,
   "metadata": {},
   "outputs": [],
   "source": [
    "model.predict( test_x )\n",
    "out = model.predict( test_x )\n"
   ]
  },
  {
   "cell_type": "code",
   "execution_count": null,
   "metadata": {},
   "outputs": [],
   "source": [
    "history_train.history.keys()"
   ]
  },
  {
   "cell_type": "code",
   "execution_count": null,
   "metadata": {},
   "outputs": [],
   "source": [
    "plt.plot(history_train.history['loss'])\n",
    "#plt.plot(history_validation.history['loss'])\n",
    "#plt.plot(history_test.history['loss'])\n",
    "#plt.plot(history.history['val_loss'])\n",
    "plt.title('model loss')\n",
    "plt.ylabel('loss')\n",
    "plt.xlabel('epoch')\n",
    "#plt.legend(['train', 'validation', 'test'], loc='upper right')\n",
    "plt.legend(['train'], loc='upper right')\n",
    "plt.show()"
   ]
  },
  {
   "cell_type": "code",
   "execution_count": null,
   "metadata": {},
   "outputs": [],
   "source": [
    "plt.plot(out)\n",
    "plt.title('model')\n",
    "plt.ylabel('energy')\n",
    "plt.xlabel('number')\n",
    "#plt.legend(['train', 'test'], loc='upper right')\n",
    "plt.show()"
   ]
  },
  {
   "cell_type": "code",
   "execution_count": null,
   "metadata": {},
   "outputs": [],
   "source": [
    "model."
   ]
  }
 ],
 "metadata": {
  "kernelspec": {
   "display_name": "Python 3",
   "language": "python",
   "name": "python3"
  },
  "language_info": {
   "codemirror_mode": {
    "name": "ipython",
    "version": 3
   },
   "file_extension": ".py",
   "mimetype": "text/x-python",
   "name": "python",
   "nbconvert_exporter": "python",
   "pygments_lexer": "ipython3",
   "version": "3.7.4"
  }
 },
 "nbformat": 4,
 "nbformat_minor": 2
}
