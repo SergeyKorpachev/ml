{
 "cells": [
  {
   "cell_type": "code",
   "execution_count": 1,
   "metadata": {},
   "outputs": [
    {
     "name": "stdout",
     "output_type": "stream",
     "text": [
      "Welcome to JupyROOT 6.22/02\n"
     ]
    }
   ],
   "source": [
    "import numpy as np\n",
    "import scipy\n",
    "import pandas as pd\n",
    "import seaborn as sn\n",
    "from matplotlib import pyplot as plt\n",
    "\n",
    "from sklearn.tree import DecisionTreeRegressor\n",
    "\n",
    "import xgboost as xgb\n",
    "from sklearn.metrics import mean_squared_error\n",
    "\n",
    "import sklearn.tree\n",
    "\n",
    "from IPython.display import Image\n",
    "\n",
    "from sklearn.model_selection import train_test_split\n",
    "from sklearn import preprocessing\n",
    "from sklearn.preprocessing import MinMaxScaler\n",
    "\n",
    "from sklearn.model_selection import KFold\n",
    "\n",
    "from sklearn.metrics import r2_score\n",
    "\n",
    "import uproot\n",
    "import ROOT\n",
    "from array import array"
   ]
  },
  {
   "cell_type": "code",
   "execution_count": 3,
   "metadata": {},
   "outputs": [],
   "source": [
    "#from numpy.random import seed\n",
    "#import random as python_random\n",
    "#number = 1\n",
    "#seed(number)\n",
    "#python_random.seed(number)"
   ]
  },
  {
   "cell_type": "code",
   "execution_count": 4,
   "metadata": {},
   "outputs": [],
   "source": [
    "#variables_test = ([\"n30\", \"n35\", \"n40\", \"n45\", \"n50\", \"n55\", \"n60\", \"n65\", \"n70\", \"n75\", \"n80\", \"nav\", \"c30\", \n",
    "#\"c35\", \"c40\", \"c45\", \"c50\", \"c55\", \"c60\", \"c65\", \"c70\", \"c75\", \"c80\", ])\n",
    "#branches = [ \"energy\", \"eecal\", \"ehcal\", \"nhits\", \"nhits_ecal\", \"nhits_hcal\", \"time\", \"etime\", \"htime\", \"radius\", \n",
    "#\"eradius\", \"hradius\", \"elayer\", \"hlayer\", \"energy_hit\", \"energy_hit_ecal\", \"energy_hit_hcal\", \n",
    "#\"energy_hit_ecal_max\", \"energy_hit_hcal_max\", \"muon_energy\", \"muon_energy_hit\", \"muon_nhits\", \"muon_time\", \n",
    "#\"muon_layer\" ]\n",
    "\n",
    "#branches = [ \"energy\", \"eecal\", \"ehcal\", \"nhits\", \"nhits_ecal\", \"nhits_hcal\", \"radius\", \"eradius\", \"hradius\", \n",
    "#\"time\", \"etime\", \"htime\", \"elayer\", \"hlayer\", \"energy_hit\", \"energy_hit_ecal\", \"energy_hit_hcal\", \n",
    "#\"energy_hit_ecal_max\", \"energy_hit_hcal_max\", \"muon_energy\", \"muon_energy_hit\", \"muon_nhits\", \"muon_time\", \n",
    "#\"muon_layer\" ]\n",
    "\n",
    "#branches = [\"energy\", \"ehcal\", \"eecal\", \"nhits\", \"nhits_ecal\", \"nhits_hcal\", \"htime\", \"radius\", \"hradius\", \n",
    "#            \"hlayer\", \"c30\", \"energy_hit\", \"energy_hit_hcal\", \"muon_energy\", \"muon_energy_hit\", \"muon_nhits\", \n",
    "#            \"muon_time\", \"muon_layer\"]\n",
    "\n",
    "branches = [\"eecal\", \"ehcal\", \"energy_hit_ecal\", \"energy_hit_hcal\", \"muon_energy\", \"muon_energy_hit\", \n",
    "           \"nhits_ecal\", \"nhits_hcal\", \"etime\", \"htime\", \"eradius\", \"hradius\", \"elayer\", \"hlayer\",\n",
    "           \"muon_nhits\", \"muon_time\", \"muon_layer\"]"
   ]
  },
  {
   "cell_type": "code",
   "execution_count": 5,
   "metadata": {},
   "outputs": [],
   "source": [
    "# ./gun_k0L_allgev_FTFP_BERT_90000evt_ILD_l5_v02steel.root\n",
    "\n",
    "fTreeName = \"tree\"\n",
    "\n",
    "data = uproot.pandas.iterate(\"./gun_k0L_allgev_FTFP_BERT_260000evt_ILD_l5_v02steel.root\", fTreeName, branches)\n",
    "data = pd.concat(list(data))\n",
    "\n",
    "data_mc = uproot.pandas.iterate(\"./gun_k0L_allgev_FTFP_BERT_260000evt_ILD_l5_v02steel.root\", fTreeName, [\"mc_energy\"])\n",
    "data_mc = pd.concat(list(data_mc))"
   ]
  },
  {
   "cell_type": "code",
   "execution_count": 6,
   "metadata": {},
   "outputs": [],
   "source": [
    "x_train, x_test, y_train, y_test = train_test_split(data, data_mc, train_size = 0.9)\n",
    "#x_train, x_test, y_train, y_test = train_test_split(data_scaled, data_mc_scaled, train_size = 0.9)\n",
    "#x = data[data.columns[:2]]"
   ]
  },
  {
   "cell_type": "code",
   "execution_count": 7,
   "metadata": {},
   "outputs": [],
   "source": [
    "#def loss3(y_true, y_pred):\n",
    "#    residual = (y_true - y_pred).astype(\"float\")\n",
    "#    grad = np.where(residual<0, -2*10.0*residual, -2*residual)\n",
    "#    hess = np.where(residual<0, 2*10.0, 2.0)\n",
    "#    return grad, hess\n",
    "\n",
    "\n",
    "\n",
    "#def loss3(y_true, y_pred):\n",
    "#    return k.mean( k.square( (y_pred - y_true) ) / ( a * y_true) )"
   ]
  },
  {
   "cell_type": "code",
   "execution_count": 8,
   "metadata": {},
   "outputs": [],
   "source": [
    "#xg_reg = xgb.XGBRegressor(objective = loss3, colsample_bytree = 0.3, learning_rate = 0.1,\n",
    "#                max_depth = 30, alpha = 10, n_estimators = 100)\n",
    "\n",
    "xg_reg = xgb.XGBRegressor(colsample_bytree = 0.3, learning_rate = 0.1,\n",
    "                max_depth = 20, alpha = 10, n_estimators = 10)"
   ]
  },
  {
   "cell_type": "code",
   "execution_count": 9,
   "metadata": {},
   "outputs": [],
   "source": [
    "history = xg_reg.fit(x_train,y_train)"
   ]
  },
  {
   "cell_type": "code",
   "execution_count": 10,
   "metadata": {},
   "outputs": [],
   "source": [
    "preds = xg_reg.predict(x_test)"
   ]
  },
  {
   "cell_type": "code",
   "execution_count": 11,
   "metadata": {},
   "outputs": [
    {
     "name": "stdout",
     "output_type": "stream",
     "text": [
      "RMSE: 16.790770\n"
     ]
    }
   ],
   "source": [
    "rmse = np.sqrt(mean_squared_error(y_test, preds))\n",
    "print(\"RMSE: %f\" % (rmse))"
   ]
  },
  {
   "cell_type": "code",
   "execution_count": 12,
   "metadata": {},
   "outputs": [],
   "source": [
    "y_preds = pd.Series(preds, name='y_preds', dtype='float32')"
   ]
  },
  {
   "cell_type": "code",
   "execution_count": 13,
   "metadata": {},
   "outputs": [
    {
     "data": {
      "text/plain": [
       "<AxesSubplot:ylabel='Frequency'>"
      ]
     },
     "execution_count": 13,
     "metadata": {},
     "output_type": "execute_result"
    },
    {
     "data": {
      "image/png": "[encoded data removed]",
      "text/plain": [
       "<Figure size 432x288 with 1 Axes>"
      ]
     },
     "metadata": {
      "needs_background": "light"
     },
     "output_type": "display_data"
    }
   ],
   "source": [
    "y_preds.plot(kind='hist')"
   ]
  },
  {
   "cell_type": "code",
   "execution_count": 14,
   "metadata": {},
   "outputs": [
    {
     "data": {
      "image/png": "[encoded data removed]",
      "text/plain": [
       "<Figure size 432x288 with 1 Axes>"
      ]
     },
     "metadata": {
      "needs_background": "light"
     },
     "output_type": "display_data"
    }
   ],
   "source": [
    "xgb.plot_importance(xg_reg)\n",
    "plt.rcParams['figure.figsize'] = [5, 5]\n",
    "#plt.savefig('aaa')\n",
    "plt.show()"
   ]
  },
  {
   "cell_type": "code",
   "execution_count": 15,
   "metadata": {},
   "outputs": [],
   "source": [
    "#from sklearn.model_selection import GridSearchCV\n",
    "#from sklearn.metrics import r2_score\n",
    "#from sklearn.metrics import make_scorer\n",
    "#ftwo_scorer = make_scorer(r2_score, beta=2)\n",
    "#type(ftwo_scorer)\n",
    "#param_grid = dict(epochs=[10, 20, 30])\n",
    "#grid = GridSearchCV(estimator=model, param_grid=param_grid, scoring=ftwo_scorer, n_jobs=-1, cv=3)\n",
    "#grid_result = grid.fit(x_train, y_train)\n",
    "\n",
    "\n",
    "\n",
    "#from tensorflow.keras.wrappers.scikit_learn import KerasRegressor\n",
    "#estimator = KerasRegressor(build_fn=model, nb_epoch=100, batch_size=100, verbose=False)\n",
    "# Create a KerasClassifier object\n",
    "#model = KerasRegressor(build_fn = model,\n",
    "#                       verbose = 0)\n",
    "#from sklearn.model_selection import RandomizedSearchCV\n",
    "#from sklearn.metrics import r2_score\n",
    "#from sklearn.metrics import make_scorer\n",
    "#ftwo_scorer = make_scorer(r2_score, beta=2)\n",
    "#type(ftwo_scorer)\n",
    "# Define the parameters to try out\n",
    "#params = {'activataion': [\"relu\", \"tanh\"],\n",
    "#          'batch_size': [16, 32, 64], \n",
    "#          'epochs': [50, 100],\n",
    "#          'learning_rate': [0.01, 0.001, 0.0001]}\n",
    "#random_search = RandomizedSearchCV(model,\n",
    "#                                   param_distributions = params,\n",
    "#                                   scoring = ftwo_scorer,\n",
    "#                                   cv = KFold(10))\n",
    "#random_search_results = random_search.fit(x_train, y_train)"
   ]
  },
  {
   "cell_type": "code",
   "execution_count": 16,
   "metadata": {},
   "outputs": [],
   "source": [
    "#from sklearn.model_selection import GridSearchCV\n",
    "#from sklearn.metrics import r2_score\n",
    "#from sklearn.metrics import make_scorer"
   ]
  },
  {
   "cell_type": "code",
   "execution_count": 17,
   "metadata": {},
   "outputs": [],
   "source": [
    "#ftwo_scorer = make_scorer(r2_score)\n",
    "#type(ftwo_scorer)"
   ]
  },
  {
   "cell_type": "code",
   "execution_count": 18,
   "metadata": {},
   "outputs": [],
   "source": [
    "#param_grid = {'epochs': [50, 100, 150, 200],\n",
    "#          'max_depth': [6, 10, 15, 20, 25, 30, 35, 40],\n",
    "#          'learning_rate': [0.001, 0.01, 0.1, 0.2, 0,3],\n",
    "#          'colsample_bytree': [0.3, 0.4, 0.5, 0.6, 0.7, 0.8, 0.9, 1.0]}"
   ]
  },
  {
   "cell_type": "code",
   "execution_count": 19,
   "metadata": {},
   "outputs": [],
   "source": [
    "#scoring_fit='neg_mean_squared_error'"
   ]
  },
  {
   "cell_type": "code",
   "execution_count": 20,
   "metadata": {},
   "outputs": [],
   "source": [
    "#grid = GridSearchCV(estimator=xg_reg, param_grid=param_grid, scoring=scoring_fit, n_jobs=-1, cv=3)"
   ]
  },
  {
   "cell_type": "code",
   "execution_count": 21,
   "metadata": {},
   "outputs": [],
   "source": [
    "#grid_result = grid.fit(x_train, y_train)"
   ]
  },
  {
   "cell_type": "code",
   "execution_count": 22,
   "metadata": {},
   "outputs": [],
   "source": [
    "#pred = grid_result.predict(x_test)"
   ]
  },
  {
   "cell_type": "code",
   "execution_count": 23,
   "metadata": {},
   "outputs": [],
   "source": [
    "#xg_reg.base_score"
   ]
  },
  {
   "cell_type": "code",
   "execution_count": 24,
   "metadata": {},
   "outputs": [],
   "source": [
    "#pred = pd.Series(pred, name='pred', dtype='float32')"
   ]
  },
  {
   "cell_type": "code",
   "execution_count": 25,
   "metadata": {},
   "outputs": [],
   "source": [
    "#pred.plot(kind='hist')"
   ]
  },
  {
   "cell_type": "code",
   "execution_count": 26,
   "metadata": {},
   "outputs": [],
   "source": [
    "#best_params2 = grid.best_params_"
   ]
  },
  {
   "cell_type": "code",
   "execution_count": 27,
   "metadata": {},
   "outputs": [],
   "source": [
    "#print(\"Best params2: \")\n",
    "#for param_name in sorted(best_params2.keys()):\n",
    "#    print('%s: %r' % (param_name, best_params2[param_name]))"
   ]
  },
  {
   "cell_type": "code",
   "execution_count": 28,
   "metadata": {},
   "outputs": [],
   "source": [
    "#from sklearn.model_selection import RandomizedSearchCV\n",
    "#from sklearn.metrics import r2_score\n",
    "#from sklearn.metrics import make_scorer\n",
    "#ftwo_scorer = make_scorer(r2_score)\n",
    "#type(ftwo_scorer)\n",
    "#Define the parameters to try out\n",
    "#params = {'epochs': [50, 100, 150, 200],\n",
    "#          'max_depth': [6, 10, 15, 20, 25, 30, 35, 40],\n",
    "#          'learning_rate': [0.001, 0.01, 0.1, 0.2, 0,3],\n",
    "#          'colsample_bytree': [0.3, 0.4, 0.5, 0.6, 0.7, 0.8, 0.9, 1.0]}\n",
    "#random_search = RandomizedSearchCV(xg_reg,\n",
    "#                                   param_distributions = params,\n",
    "#                                   scoring = ftwo_scorer,\n",
    "#                                   cv = KFold(10))\n",
    "#random_search_results = random_search.fit(x_train, y_train)"
   ]
  },
  {
   "cell_type": "code",
   "execution_count": 29,
   "metadata": {},
   "outputs": [],
   "source": [
    "#pred2 = random_search_results.predict(x_test)"
   ]
  },
  {
   "cell_type": "code",
   "execution_count": 30,
   "metadata": {},
   "outputs": [],
   "source": [
    "#pred2 = pd.Series(pred2, name='pred2', dtype='float32')"
   ]
  },
  {
   "cell_type": "code",
   "execution_count": 31,
   "metadata": {},
   "outputs": [],
   "source": [
    "#pred2.plot(kind='hist')"
   ]
  },
  {
   "cell_type": "code",
   "execution_count": 32,
   "metadata": {},
   "outputs": [],
   "source": [
    "#best_params = random_search.best_params_"
   ]
  },
  {
   "cell_type": "code",
   "execution_count": 33,
   "metadata": {},
   "outputs": [],
   "source": [
    "#print(\"Best params: \")\n",
    "#for param_name in sorted(best_params.keys()):\n",
    "#    print('%s: %r' % (param_name, best_params[param_name]))"
   ]
  },
  {
   "cell_type": "code",
   "execution_count": 34,
   "metadata": {},
   "outputs": [],
   "source": [
    "#import matplotlib.pyplot as plt\n",
    "#xgb.plot_tree(xg_reg,num_trees=0)\n",
    "#plt.rcParams['figure.figsize'] = [50, 10]\n",
    "#plt.show()"
   ]
  },
  {
   "cell_type": "code",
   "execution_count": 35,
   "metadata": {},
   "outputs": [],
   "source": [
    "#regr = DecisionTreeRegressor(max_depth=30)\n",
    "#history = regr.fit(x_train, y_train)\n",
    "\n",
    "#y_predict = regr.predict(x_test)\n",
    "\n",
    "#y_predict = pd.Series(y_predict, name='y_predict', dtype='float32')\n",
    "\n",
    "#y_predict.plot(kind='hist')"
   ]
  },
  {
   "cell_type": "code",
   "execution_count": 36,
   "metadata": {
    "scrolled": false
   },
   "outputs": [],
   "source": [
    "#sklearn.tree.plot_tree(regr)"
   ]
  },
  {
   "cell_type": "code",
   "execution_count": 37,
   "metadata": {},
   "outputs": [],
   "source": [
    "#plt.plot(y_predict, color=\"yellowgreen\", label=\"max_depth=5\", linewidth=2)"
   ]
  },
  {
   "cell_type": "code",
   "execution_count": 38,
   "metadata": {},
   "outputs": [],
   "source": [
    "file5 = uproot.open(\"./data/gun_k0L_5gev_FTFP_BERT_5000evt_ILD_l5_v02steel.root\")\n",
    "file10 = uproot.open(\"./data/gun_k0L_10gev_FTFP_BERT_5000evt_ILD_l5_v02steel.root\")\n",
    "file15 = uproot.open(\"./data/gun_k0L_15gev_FTFP_BERT_5000evt_ILD_l5_v02steel.root\")\n",
    "file20 = uproot.open(\"./data/gun_k0L_20gev_FTFP_BERT_5000evt_ILD_l5_v02steel.root\")\n",
    "file25 = uproot.open(\"./data/gun_k0L_25gev_FTFP_BERT_5000evt_ILD_l5_v02steel.root\")\n",
    "file30 = uproot.open(\"./data/gun_k0L_30gev_FTFP_BERT_5000evt_ILD_l5_v02steel.root\")\n",
    "file40 = uproot.open(\"./data/gun_k0L_40gev_FTFP_BERT_5000evt_ILD_l5_v02steel.root\")\n",
    "file50 = uproot.open(\"./data/gun_k0L_50gev_FTFP_BERT_5000evt_ILD_l5_v02steel.root\")\n",
    "file60 = uproot.open(\"./data/gun_k0L_60gev_FTFP_BERT_5000evt_ILD_l5_v02steel.root\")"
   ]
  },
  {
   "cell_type": "code",
   "execution_count": 39,
   "metadata": {},
   "outputs": [],
   "source": [
    "file1 = uproot.open(\"./data/data_other/gun_k0L_1gev_FTFP_BERT_5000evt_ILD_l5_v02steel.root\")\n",
    "file2 = uproot.open(\"./data/data_other/gun_k0L_2gev_FTFP_BERT_5000evt_ILD_l5_v02steel.root\")\n",
    "file3 = uproot.open(\"./data/data_other/gun_k0L_3gev_FTFP_BERT_5000evt_ILD_l5_v02steel.root\")\n",
    "file4 = uproot.open(\"./data/data_other/gun_k0L_4gev_FTFP_BERT_5000evt_ILD_l5_v02steel.root\")\n",
    "file70 = uproot.open(\"./data/data_other/gun_k0L_70gev_FTFP_BERT_5000evt_ILD_l5_v02steel.root\")\n",
    "file80 = uproot.open(\"./data/data_other/gun_k0L_80gev_FTFP_BERT_5000evt_ILD_l5_v02steel.root\")\n",
    "file90 = uproot.open(\"./data/data_other/gun_k0L_90gev_FTFP_BERT_5000evt_ILD_l5_v02steel.root\")\n",
    "\n",
    "file7 = uproot.open(\"./data/data_other/gun_k0L_7gev_FTFP_BERT_5000evt_ILD_l5_v02steel.root\")\n",
    "file45 = uproot.open(\"./data/data_other/gun_k0L_45gev_FTFP_BERT_5000evt_ILD_l5_v02steel.root\")\n",
    "\n",
    "file120 = uproot.open(\"./data/data_other/gun_k0L_120gev_FTFP_BERT_5000evt_ILD_l5_v02steel.root\")"
   ]
  },
  {
   "cell_type": "code",
   "execution_count": 40,
   "metadata": {},
   "outputs": [],
   "source": [
    "file6 = uproot.open(\"./data/data_other/gun_k0L_6gev_FTFP_BERT_5000evt_ILD_l5_v02steel.root\")\n",
    "file8 = uproot.open(\"./data/data_other/gun_k0L_8gev_FTFP_BERT_5000evt_ILD_l5_v02steel.root\")\n",
    "file9 = uproot.open(\"./data/data_other/gun_k0L_9gev_FTFP_BERT_5000evt_ILD_l5_v02steel.root\")\n",
    "file12 = uproot.open(\"./data/data_other/gun_k0L_12gev_FTFP_BERT_5000evt_ILD_l5_v02steel.root\")\n",
    "file14 = uproot.open(\"./data/data_other/gun_k0L_14gev_FTFP_BERT_5000evt_ILD_l5_v02steel.root\")\n",
    "file16 = uproot.open(\"./data/data_other/gun_k0L_16gev_FTFP_BERT_5000evt_ILD_l5_v02steel.root\")\n",
    "file18 = uproot.open(\"./data/data_other/gun_k0L_18gev_FTFP_BERT_5000evt_ILD_l5_v02steel.root\")\n",
    "file35 = uproot.open(\"./data/data_other/gun_k0L_35gev_FTFP_BERT_5000evt_ILD_l5_v02steel.root\")\n",
    "file55 = uproot.open(\"./data/data_other/gun_k0L_55gev_FTFP_BERT_5000evt_ILD_l5_v02steel.root\")\n",
    "file65 = uproot.open(\"./data/data_other/gun_k0L_65gev_FTFP_BERT_5000evt_ILD_l5_v02steel.root\")"
   ]
  },
  {
   "cell_type": "code",
   "execution_count": 41,
   "metadata": {},
   "outputs": [],
   "source": [
    "f5 = uproot.pandas.iterate(\"./data/gun_k0L_5gev_FTFP_BERT_5000evt_ILD_l5_v02steel.root\", fTreeName, branches)\n",
    "file5 = pd.concat(list(f5))\n",
    "\n",
    "f10 = uproot.pandas.iterate(\"./data/gun_k0L_10gev_FTFP_BERT_5000evt_ILD_l5_v02steel.root\", fTreeName, branches)\n",
    "file10 = pd.concat(list(f10))\n",
    "\n",
    "f15 = uproot.pandas.iterate(\"./data/gun_k0L_15gev_FTFP_BERT_5000evt_ILD_l5_v02steel.root\", fTreeName, branches)\n",
    "file15 = pd.concat(list(f15))\n",
    "\n",
    "f20 = uproot.pandas.iterate(\"./data/gun_k0L_20gev_FTFP_BERT_5000evt_ILD_l5_v02steel.root\", fTreeName, branches)\n",
    "file20 = pd.concat(list(f20))\n",
    "\n",
    "f25 = uproot.pandas.iterate(\"./data/gun_k0L_25gev_FTFP_BERT_5000evt_ILD_l5_v02steel.root\", fTreeName, branches)\n",
    "file25 = pd.concat(list(f25))\n",
    "\n",
    "f30 = uproot.pandas.iterate(\"./data/gun_k0L_30gev_FTFP_BERT_5000evt_ILD_l5_v02steel.root\", fTreeName, branches)\n",
    "file30 = pd.concat(list(f30))\n",
    "\n",
    "f40 = uproot.pandas.iterate(\"./data/gun_k0L_40gev_FTFP_BERT_5000evt_ILD_l5_v02steel.root\", fTreeName, branches)\n",
    "file40 = pd.concat(list(f40))\n",
    "\n",
    "f50 = uproot.pandas.iterate(\"./data/gun_k0L_50gev_FTFP_BERT_5000evt_ILD_l5_v02steel.root\", fTreeName, branches)\n",
    "file50 = pd.concat(list(f50))\n",
    "\n",
    "f60 = uproot.pandas.iterate(\"./data/gun_k0L_60gev_FTFP_BERT_5000evt_ILD_l5_v02steel.root\", fTreeName, branches)\n",
    "file60 = pd.concat(list(f60))"
   ]
  },
  {
   "cell_type": "code",
   "execution_count": 42,
   "metadata": {},
   "outputs": [],
   "source": [
    "f1 = uproot.pandas.iterate(\"./data/data_other/gun_k0L_1gev_FTFP_BERT_5000evt_ILD_l5_v02steel.root\", fTreeName, branches)\n",
    "file1 = pd.concat(list(f1))\n",
    "\n",
    "f2 = uproot.pandas.iterate(\"./data/data_other/gun_k0L_2gev_FTFP_BERT_5000evt_ILD_l5_v02steel.root\", fTreeName, branches)\n",
    "file2 = pd.concat(list(f2))\n",
    "\n",
    "f3 = uproot.pandas.iterate(\"./data/data_other/gun_k0L_3gev_FTFP_BERT_5000evt_ILD_l5_v02steel.root\", fTreeName, branches)\n",
    "file3 = pd.concat(list(f3))\n",
    "\n",
    "f4 = uproot.pandas.iterate(\"./data/data_other/gun_k0L_4gev_FTFP_BERT_5000evt_ILD_l5_v02steel.root\", fTreeName, branches)\n",
    "file4 = pd.concat(list(f4))\n",
    "\n",
    "f70 = uproot.pandas.iterate(\"./data/data_other/gun_k0L_70gev_FTFP_BERT_5000evt_ILD_l5_v02steel.root\", fTreeName, branches)\n",
    "file70 = pd.concat(list(f70))\n",
    "\n",
    "f80 = uproot.pandas.iterate(\"./data/data_other/gun_k0L_80gev_FTFP_BERT_5000evt_ILD_l5_v02steel.root\", fTreeName, branches)\n",
    "file80 = pd.concat(list(f80))\n",
    "\n",
    "f90 = uproot.pandas.iterate(\"./data/data_other/gun_k0L_90gev_FTFP_BERT_5000evt_ILD_l5_v02steel.root\", fTreeName, branches)\n",
    "file90 = pd.concat(list(f90))\n",
    "\n",
    "\n",
    "f7 = uproot.pandas.iterate(\"./data/data_other/gun_k0L_7gev_FTFP_BERT_5000evt_ILD_l5_v02steel.root\", fTreeName, branches)\n",
    "file7 = pd.concat(list(f7))\n",
    "\n",
    "f45 = uproot.pandas.iterate(\"./data/data_other/gun_k0L_45gev_FTFP_BERT_5000evt_ILD_l5_v02steel.root\", fTreeName, branches)\n",
    "file45 = pd.concat(list(f45))\n",
    "\n",
    "\n",
    "f120 = uproot.pandas.iterate(\"./data/data_other/gun_k0L_120gev_FTFP_BERT_5000evt_ILD_l5_v02steel.root\", fTreeName, branches)\n",
    "file120 = pd.concat(list(f120))"
   ]
  },
  {
   "cell_type": "code",
   "execution_count": 43,
   "metadata": {},
   "outputs": [],
   "source": [
    "f6 = uproot.pandas.iterate(\"./data/data_other/gun_k0L_6gev_FTFP_BERT_5000evt_ILD_l5_v02steel.root\", fTreeName, branches)\n",
    "file6 = pd.concat(list(f6))\n",
    "\n",
    "f8 = uproot.pandas.iterate(\"./data/data_other/gun_k0L_8gev_FTFP_BERT_5000evt_ILD_l5_v02steel.root\", fTreeName, branches)\n",
    "file8 = pd.concat(list(f8))\n",
    "\n",
    "f9 = uproot.pandas.iterate(\"./data/data_other/gun_k0L_9gev_FTFP_BERT_5000evt_ILD_l5_v02steel.root\", fTreeName, branches)\n",
    "file9 = pd.concat(list(f9))\n",
    "\n",
    "f12 = uproot.pandas.iterate(\"./data/data_other/gun_k0L_12gev_FTFP_BERT_5000evt_ILD_l5_v02steel.root\", fTreeName, branches)\n",
    "file12 = pd.concat(list(f12))\n",
    "\n",
    "f14 = uproot.pandas.iterate(\"./data/data_other/gun_k0L_14gev_FTFP_BERT_5000evt_ILD_l5_v02steel.root\", fTreeName, branches)\n",
    "file14 = pd.concat(list(f14))\n",
    "\n",
    "f16 = uproot.pandas.iterate(\"./data/data_other/gun_k0L_16gev_FTFP_BERT_5000evt_ILD_l5_v02steel.root\", fTreeName, branches)\n",
    "file16 = pd.concat(list(f16))\n",
    "\n",
    "f18 = uproot.pandas.iterate(\"./data/data_other/gun_k0L_18gev_FTFP_BERT_5000evt_ILD_l5_v02steel.root\", fTreeName, branches)\n",
    "file18 = pd.concat(list(f18))\n",
    "\n",
    "f35 = uproot.pandas.iterate(\"./data/data_other/gun_k0L_35gev_FTFP_BERT_5000evt_ILD_l5_v02steel.root\", fTreeName, branches)\n",
    "file35 = pd.concat(list(f35))\n",
    "\n",
    "f55 = uproot.pandas.iterate(\"./data/data_other/gun_k0L_55gev_FTFP_BERT_5000evt_ILD_l5_v02steel.root\", fTreeName, branches)\n",
    "file55 = pd.concat(list(f55))\n",
    "\n",
    "f65 = uproot.pandas.iterate(\"./data/data_other/gun_k0L_65gev_FTFP_BERT_5000evt_ILD_l5_v02steel.root\", fTreeName, branches)\n",
    "file65 = pd.concat(list(f65))"
   ]
  },
  {
   "cell_type": "code",
   "execution_count": 44,
   "metadata": {},
   "outputs": [],
   "source": [
    "out5 = xg_reg.predict( file5 )\n",
    "out10 = xg_reg.predict( file10 )\n",
    "out15 = xg_reg.predict( file15 )\n",
    "out20 = xg_reg.predict( file20 )\n",
    "out25 = xg_reg.predict( file25 )\n",
    "out30 = xg_reg.predict( file30 )\n",
    "out40 = xg_reg.predict( file40 )\n",
    "out50 = xg_reg.predict( file50 )\n",
    "out60 = xg_reg.predict( file60 )\n",
    "\n",
    "out_train = xg_reg.predict( x_train )\n",
    "out_test = xg_reg.predict( x_test )\n",
    "#out_test = xg_reg.predict( x_test[ branches ].values )"
   ]
  },
  {
   "cell_type": "code",
   "execution_count": 45,
   "metadata": {},
   "outputs": [],
   "source": [
    "out1 = xg_reg.predict( file1 )\n",
    "out2 = xg_reg.predict( file2 )\n",
    "out3 = xg_reg.predict( file3 )\n",
    "out4 = xg_reg.predict( file4 )\n",
    "out70 = xg_reg.predict( file70 )\n",
    "out80 = xg_reg.predict( file80 )\n",
    "out90 = xg_reg.predict( file90 )\n",
    "\n",
    "out7 = xg_reg.predict( file7 )\n",
    "out45 = xg_reg.predict( file45 )\n",
    "\n",
    "out120 = xg_reg.predict( file120 )"
   ]
  },
  {
   "cell_type": "code",
   "execution_count": 46,
   "metadata": {},
   "outputs": [],
   "source": [
    "out6 = xg_reg.predict( file6 )\n",
    "out8 = xg_reg.predict( file8 )\n",
    "out9 = xg_reg.predict( file9 )\n",
    "out12 = xg_reg.predict( file12 )\n",
    "out14 = xg_reg.predict( file14 )\n",
    "out16 = xg_reg.predict( file16 )\n",
    "out18 = xg_reg.predict( file18 )\n",
    "out35 = xg_reg.predict( file35 )\n",
    "out55 = xg_reg.predict( file55 )\n",
    "out65 = xg_reg.predict( file65 )"
   ]
  },
  {
   "cell_type": "code",
   "execution_count": 47,
   "metadata": {},
   "outputs": [],
   "source": [
    "bdt = ROOT.TFile('bdt.root', 'recreate')"
   ]
  },
  {
   "cell_type": "code",
   "execution_count": 48,
   "metadata": {},
   "outputs": [],
   "source": [
    "tree5 = ROOT.TTree( 'tree5', 'tree5' )\n",
    "tree10 = ROOT.TTree( 'tree10', 'tree10' )\n",
    "tree15 = ROOT.TTree( 'tree15', 'tree15' )\n",
    "tree20 = ROOT.TTree( 'tree20', 'tree20' )\n",
    "tree25 = ROOT.TTree( 'tree25', 'tree25' )\n",
    "tree30 = ROOT.TTree( 'tree30', 'tree30' )\n",
    "tree40 = ROOT.TTree( 'tree40', 'tree40' )\n",
    "tree50 = ROOT.TTree( 'tree50', 'tree50' )\n",
    "tree60 = ROOT.TTree( 'tree60', 'tree60' )\n",
    "\n",
    "tree_train = ROOT.TTree( 'tree_train', 'tree_train' )\n",
    "tree_test = ROOT.TTree( 'tree_test', 'tree_test' )\n",
    "\n",
    "before_train = ROOT.TTree( 'before_train', 'before_train' )\n",
    "before_test = ROOT.TTree( 'before_test', 'before_test' )"
   ]
  },
  {
   "cell_type": "code",
   "execution_count": 49,
   "metadata": {},
   "outputs": [],
   "source": [
    "tree1 = ROOT.TTree( 'tree1', 'tree1' )\n",
    "tree2 = ROOT.TTree( 'tree2', 'tree2' )\n",
    "tree3 = ROOT.TTree( 'tree3', 'tree3' )\n",
    "tree4 = ROOT.TTree( 'tree4', 'tree4' )\n",
    "tree70 = ROOT.TTree( 'tree70', 'tree70' )\n",
    "tree80 = ROOT.TTree( 'tree80', 'tree80' )\n",
    "tree90 = ROOT.TTree( 'tree90', 'tree90' )\n",
    "\n",
    "tree7 = ROOT.TTree( 'tree7', 'tree7' )\n",
    "tree45 = ROOT.TTree( 'tree45', 'tree45' )\n",
    "\n",
    "tree120 = ROOT.TTree( 'tree120', 'tree120' )"
   ]
  },
  {
   "cell_type": "code",
   "execution_count": 50,
   "metadata": {},
   "outputs": [],
   "source": [
    "tree6 = ROOT.TTree( 'tree6', 'tree6' )\n",
    "tree8 = ROOT.TTree( 'tree8', 'tree8' )\n",
    "tree9 = ROOT.TTree( 'tree9', 'tree9' )\n",
    "tree12 = ROOT.TTree( 'tree12', 'tree12' )\n",
    "tree14 = ROOT.TTree( 'tree14', 'tree14' )\n",
    "tree16 = ROOT.TTree( 'tree16', 'tree16' )\n",
    "tree18 = ROOT.TTree( 'tree18', 'tree18' )\n",
    "tree35 = ROOT.TTree( 'tree35', 'tree35' )\n",
    "tree55 = ROOT.TTree( 'tree55', 'tree55' )\n",
    "tree65 = ROOT.TTree( 'tree65', 'tree65' )"
   ]
  },
  {
   "cell_type": "code",
   "execution_count": 51,
   "metadata": {},
   "outputs": [],
   "source": [
    "bdt5 = array( 'f', [ 0.0 ] )\n",
    "bdt10 = array( 'f', [ 0.0 ] )\n",
    "bdt15 = array( 'f', [ 0.0 ] )\n",
    "bdt20 = array( 'f', [ 0.0 ] )\n",
    "bdt25 = array( 'f', [ 0.0 ] )\n",
    "bdt30 = array( 'f', [ 0.0 ] )\n",
    "bdt40 = array( 'f', [ 0.0 ] )\n",
    "bdt50 = array( 'f', [ 0.0 ] )\n",
    "bdt60 = array( 'f', [ 0.0 ] )\n",
    "\n",
    "bdt_train = array( 'f', [ 0.0 ] )\n",
    "bdt_test = array( 'f', [ 0.0 ] )\n",
    "\n",
    "train = array( 'f', [ 0.0 ] )\n",
    "test = array( 'f', [ 0.0 ] )"
   ]
  },
  {
   "cell_type": "code",
   "execution_count": 52,
   "metadata": {},
   "outputs": [],
   "source": [
    "bdt1 = array( 'f', [ 0.0 ] )\n",
    "bdt2 = array( 'f', [ 0.0 ] )\n",
    "bdt3 = array( 'f', [ 0.0 ] )\n",
    "bdt4 = array( 'f', [ 0.0 ] )\n",
    "bdt70 = array( 'f', [ 0.0 ] )\n",
    "bdt80 = array( 'f', [ 0.0 ] )\n",
    "bdt90 = array( 'f', [ 0.0 ] )\n",
    "\n",
    "bdt7 = array( 'f', [ 0.0 ] )\n",
    "bdt45 = array( 'f', [ 0.0 ] )\n",
    "\n",
    "bdt120 = array( 'f', [ 0.0 ] )"
   ]
  },
  {
   "cell_type": "code",
   "execution_count": 53,
   "metadata": {},
   "outputs": [],
   "source": [
    "bdt6 = array( 'f', [ 0.0 ] )\n",
    "bdt8 = array( 'f', [ 0.0 ] )\n",
    "bdt9 = array( 'f', [ 0.0 ] )\n",
    "bdt12 = array( 'f', [ 0.0 ] )\n",
    "bdt14 = array( 'f', [ 0.0 ] )\n",
    "bdt16 = array( 'f', [ 0.0 ] )\n",
    "bdt18 = array( 'f', [ 0.0 ] )\n",
    "bdt35 = array( 'f', [ 0.0 ] )\n",
    "bdt55 = array( 'f', [ 0.0 ] )\n",
    "bdt65 = array( 'f', [ 0.0 ] )"
   ]
  },
  {
   "cell_type": "code",
   "execution_count": 54,
   "metadata": {},
   "outputs": [
    {
     "data": {
      "text/plain": [
       "<cppyy.gbl.TBranch object at 0xdebbe50>"
      ]
     },
     "execution_count": 54,
     "metadata": {},
     "output_type": "execute_result"
    }
   ],
   "source": [
    "tree5.Branch( 'bdt5', bdt5, 'bdt5/F' )\n",
    "tree10.Branch( 'bdt10', bdt10, 'bdt10/F' )\n",
    "tree15.Branch( 'bdt15', bdt15, 'bdt15/F' )\n",
    "tree20.Branch( 'bdt20', bdt20, 'bdt20/F' )\n",
    "tree25.Branch( 'bdt25', bdt25, 'bdt25/F' )\n",
    "tree30.Branch( 'bdt30', bdt30, 'bdt30/F' )\n",
    "tree40.Branch( 'bdt40', bdt40, 'bdt40/F' )\n",
    "tree50.Branch( 'bdt50', bdt50, 'bdt50/F' )\n",
    "tree60.Branch( 'bdt60', bdt60, 'bdt60/F' )\n",
    "\n",
    "tree_train.Branch( 'bdt_train', bdt_train, 'bdt_train/F' )\n",
    "tree_test.Branch( 'bdt_test', bdt_test, 'bdt_test/F' )\n",
    "\n",
    "before_train.Branch( 'train', train, 'train/F' )\n",
    "before_test.Branch( 'test', test, 'test/F' )"
   ]
  },
  {
   "cell_type": "code",
   "execution_count": 55,
   "metadata": {},
   "outputs": [
    {
     "data": {
      "text/plain": [
       "<cppyy.gbl.TBranch object at 0xdebfb10>"
      ]
     },
     "execution_count": 55,
     "metadata": {},
     "output_type": "execute_result"
    }
   ],
   "source": [
    "tree1.Branch( 'bdt1', bdt1, 'bdt1/F' )\n",
    "tree2.Branch( 'bdt2', bdt2, 'bdt2/F' )\n",
    "tree3.Branch( 'bdt3', bdt3, 'bdt3/F' )\n",
    "tree4.Branch( 'bdt4', bdt4, 'bdt4/F' )\n",
    "tree70.Branch( 'bdt70', bdt70, 'bdt70/F' )\n",
    "tree80.Branch( 'bdt80', bdt80, 'bdt80/F' )\n",
    "tree90.Branch( 'bdt90', bdt90, 'bdt90/F' )\n",
    "\n",
    "tree7.Branch( 'bdt7', bdt7, 'bdt7/F' )\n",
    "tree45.Branch( 'bdt45', bdt45, 'bdt45/F' )\n",
    "\n",
    "tree120.Branch( 'bdt120', bdt120, 'bdt120/F' )"
   ]
  },
  {
   "cell_type": "code",
   "execution_count": 56,
   "metadata": {},
   "outputs": [
    {
     "data": {
      "text/plain": [
       "<cppyy.gbl.TBranch object at 0xdcf72f0>"
      ]
     },
     "execution_count": 56,
     "metadata": {},
     "output_type": "execute_result"
    }
   ],
   "source": [
    "tree6.Branch( 'bdt6', bdt6, 'bdt6/F' )\n",
    "tree8.Branch( 'bdt8', bdt8, 'bdt8/F' )\n",
    "tree9.Branch( 'bdt9', bdt9, 'bdt9/F' )\n",
    "tree12.Branch( 'bdt12', bdt12, 'bdt12/F' )\n",
    "tree14.Branch( 'bdt14', bdt14, 'bdt14/F' )\n",
    "tree16.Branch( 'bdt16', bdt16, 'bdt16/F' )\n",
    "tree18.Branch( 'bdt18', bdt18, 'bdt18/F' )\n",
    "tree35.Branch( 'bdt35', bdt35, 'bdt35/F' )\n",
    "tree55.Branch( 'bdt55', bdt55, 'bdt55/F' )\n",
    "tree65.Branch( 'bdt65', bdt65, 'bdt65/F' )"
   ]
  },
  {
   "cell_type": "code",
   "execution_count": 57,
   "metadata": {},
   "outputs": [],
   "source": [
    "#x_train_energy = x_train.energy.to_numpy(x_train.energy)\n",
    "#x_test_energy = x_test.energy.to_numpy(x_test.energy)"
   ]
  },
  {
   "cell_type": "code",
   "execution_count": 58,
   "metadata": {},
   "outputs": [],
   "source": [
    "for i in range( 0, len( out5 ) ):\n",
    "    bdt5[ 0 ] = out5[ i ]\n",
    "    tree5.Fill()\n",
    "\n",
    "for i in range( 0, len( out10 ) ):\n",
    "    bdt10[ 0 ] = out10[ i ]\n",
    "    tree10.Fill()\n",
    "\n",
    "for i in range( 0, len( out15 ) ):\n",
    "    bdt15[ 0 ] = out15[ i ]\n",
    "    tree15.Fill()\n",
    "\n",
    "for i in range( 0, len( out20 ) ):\n",
    "    bdt20[ 0 ] = out20[ i ]\n",
    "    tree20.Fill()\n",
    "\n",
    "for i in range( 0, len( out25 ) ):\n",
    "    bdt25[ 0 ] = out25[ i ]\n",
    "    tree25.Fill()\n",
    "\n",
    "for i in range( 0, len( out30 ) ):\n",
    "    bdt30[ 0 ] = out30[ i ]\n",
    "    tree30.Fill()\n",
    "\n",
    "for i in range( 0, len( out40 ) ):\n",
    "    bdt40[ 0 ] = out40[ i ]\n",
    "    tree40.Fill()\n",
    "\n",
    "for i in range( 0, len( out50 ) ):\n",
    "    bdt50[ 0 ] = out50[ i ]\n",
    "    tree50.Fill()\n",
    "\n",
    "for i in range( 0, len( out60 ) ):\n",
    "    bdt60[ 0 ] = out60[ i ]\n",
    "    tree60.Fill()\n",
    "    \n",
    "    \n",
    "for i in range( 0, len( out_train ) ):\n",
    "    bdt_train[ 0 ] = out_train[ i ]\n",
    "    tree_train.Fill()\n",
    "    \n",
    "for i in range( 0, len( out_test ) ):\n",
    "    bdt_test[ 0 ] = out_test[ i ]\n",
    "    tree_test.Fill()\n",
    "\n",
    "    \n",
    "#for i in range( 0, len( x_train_energy) ):\n",
    "#    train[ 0 ] = x_train_energy[ i ]\n",
    "#    before_train.Fill()\n",
    "    \n",
    "#for i in range( 0, len( x_test_energy ) ):\n",
    "#    test[ 0 ] = x_test_energy[ i ]\n",
    "#    before_test.Fill()"
   ]
  },
  {
   "cell_type": "code",
   "execution_count": 59,
   "metadata": {},
   "outputs": [],
   "source": [
    "for i in range( 0, len( out1 ) ):\n",
    "    bdt1[ 0 ] = out1[ i ]\n",
    "    tree1.Fill()\n",
    "\n",
    "for i in range( 0, len( out2 ) ):\n",
    "    bdt2[ 0 ] = out2[ i ]\n",
    "    tree2.Fill()\n",
    "\n",
    "for i in range( 0, len( out3 ) ):\n",
    "    bdt3[ 0 ] = out3[ i ]\n",
    "    tree3.Fill()\n",
    "\n",
    "for i in range( 0, len( out4 ) ):\n",
    "    bdt4[ 0 ] = out4[ i ]\n",
    "    tree4.Fill()\n",
    "\n",
    "for i in range( 0, len( out70 ) ):\n",
    "    bdt70[ 0 ] = out70[ i ]\n",
    "    tree70.Fill()\n",
    "\n",
    "for i in range( 0, len( out80 ) ):\n",
    "    bdt80[ 0 ] = out80[ i ]\n",
    "    tree80.Fill()\n",
    "\n",
    "for i in range( 0, len( out90 ) ):\n",
    "    bdt90[ 0 ] = out90[ i ]\n",
    "    tree90.Fill()\n",
    "\n",
    "    \n",
    "for i in range( 0, len( out7 ) ):\n",
    "    bdt7[ 0 ] = out7[ i ]\n",
    "    tree7.Fill()\n",
    "\n",
    "for i in range( 0, len( out45 ) ):\n",
    "    bdt45[ 0 ] = out45[ i ]\n",
    "    tree45.Fill()\n",
    "    \n",
    "\n",
    "for i in range( 0, len( out120 ) ):\n",
    "    bdt120[ 0 ] = out120[ i ]\n",
    "    tree120.Fill()"
   ]
  },
  {
   "cell_type": "code",
   "execution_count": 60,
   "metadata": {},
   "outputs": [],
   "source": [
    "for i in range( 0, len( out6 ) ):\n",
    "    bdt6[ 0 ] = out6[ i ]\n",
    "    tree6.Fill()\n",
    "    \n",
    "for i in range( 0, len( out8 ) ):\n",
    "    bdt8[ 0 ] = out8[ i ]\n",
    "    tree8.Fill()\n",
    "    \n",
    "for i in range( 0, len( out9 ) ):\n",
    "    bdt9[ 0 ] = out9[ i ]\n",
    "    tree9.Fill()\n",
    "    \n",
    "for i in range( 0, len( out12 ) ):\n",
    "    bdt12[ 0 ] = out12[ i ]\n",
    "    tree12.Fill()\n",
    "    \n",
    "for i in range( 0, len( out14 ) ):\n",
    "    bdt14[ 0 ] = out14[ i ]\n",
    "    tree14.Fill()\n",
    "    \n",
    "for i in range( 0, len( out16 ) ):\n",
    "    bdt16[ 0 ] = out16[ i ]\n",
    "    tree16.Fill()\n",
    "    \n",
    "for i in range( 0, len( out18 ) ):\n",
    "    bdt18[ 0 ] = out18[ i ]\n",
    "    tree18.Fill()\n",
    "    \n",
    "for i in range( 0, len( out35 ) ):\n",
    "    bdt35[ 0 ] = out35[ i ]\n",
    "    tree35.Fill()\n",
    "    \n",
    "for i in range( 0, len( out55 ) ):\n",
    "    bdt55[ 0 ] = out55[ i ]\n",
    "    tree55.Fill()\n",
    "    \n",
    "for i in range( 0, len( out65 ) ):\n",
    "    bdt65[ 0 ] = out65[ i ]\n",
    "    tree65.Fill()"
   ]
  },
  {
   "cell_type": "code",
   "execution_count": 62,
   "metadata": {},
   "outputs": [],
   "source": [
    "bdt.Write()\n",
    "bdt.Close()"
   ]
  },
  {
   "cell_type": "code",
   "execution_count": null,
   "metadata": {},
   "outputs": [],
   "source": []
  },
  {
   "cell_type": "code",
   "execution_count": null,
   "metadata": {},
   "outputs": [],
   "source": []
  },
  {
   "cell_type": "code",
   "execution_count": null,
   "metadata": {},
   "outputs": [],
   "source": []
  },
  {
   "cell_type": "code",
   "execution_count": null,
   "metadata": {},
   "outputs": [],
   "source": []
  },
  {
   "cell_type": "code",
   "execution_count": null,
   "metadata": {},
   "outputs": [],
   "source": []
  },
  {
   "cell_type": "code",
   "execution_count": null,
   "metadata": {},
   "outputs": [],
   "source": []
  },
  {
   "cell_type": "code",
   "execution_count": null,
   "metadata": {},
   "outputs": [],
   "source": []
  },
  {
   "cell_type": "code",
   "execution_count": null,
   "metadata": {},
   "outputs": [],
   "source": []
  },
  {
   "cell_type": "code",
   "execution_count": null,
   "metadata": {},
   "outputs": [],
   "source": []
  },
  {
   "cell_type": "code",
   "execution_count": null,
   "metadata": {},
   "outputs": [],
   "source": []
  },
  {
   "cell_type": "code",
   "execution_count": null,
   "metadata": {},
   "outputs": [],
   "source": []
  },
  {
   "cell_type": "code",
   "execution_count": null,
   "metadata": {},
   "outputs": [],
   "source": []
  },
  {
   "cell_type": "code",
   "execution_count": null,
   "metadata": {},
   "outputs": [],
   "source": []
  },
  {
   "cell_type": "code",
   "execution_count": null,
   "metadata": {},
   "outputs": [],
   "source": []
  },
  {
   "cell_type": "code",
   "execution_count": null,
   "metadata": {},
   "outputs": [],
   "source": []
  },
  {
   "cell_type": "code",
   "execution_count": null,
   "metadata": {},
   "outputs": [],
   "source": []
  },
  {
   "cell_type": "code",
   "execution_count": null,
   "metadata": {},
   "outputs": [],
   "source": []
  },
  {
   "cell_type": "code",
   "execution_count": null,
   "metadata": {},
   "outputs": [],
   "source": []
  },
  {
   "cell_type": "code",
   "execution_count": null,
   "metadata": {},
   "outputs": [],
   "source": []
  },
  {
   "cell_type": "code",
   "execution_count": null,
   "metadata": {},
   "outputs": [],
   "source": []
  },
  {
   "cell_type": "code",
   "execution_count": null,
   "metadata": {},
   "outputs": [],
   "source": []
  },
  {
   "cell_type": "code",
   "execution_count": null,
   "metadata": {},
   "outputs": [],
   "source": []
  },
  {
   "cell_type": "code",
   "execution_count": null,
   "metadata": {},
   "outputs": [],
   "source": []
  },
  {
   "cell_type": "code",
   "execution_count": null,
   "metadata": {},
   "outputs": [],
   "source": []
  },
  {
   "cell_type": "code",
   "execution_count": null,
   "metadata": {},
   "outputs": [],
   "source": []
  },
  {
   "cell_type": "code",
   "execution_count": null,
   "metadata": {},
   "outputs": [],
   "source": []
  },
  {
   "cell_type": "code",
   "execution_count": null,
   "metadata": {},
   "outputs": [],
   "source": []
  },
  {
   "cell_type": "code",
   "execution_count": null,
   "metadata": {},
   "outputs": [],
   "source": []
  },
  {
   "cell_type": "code",
   "execution_count": null,
   "metadata": {},
   "outputs": [],
   "source": []
  },
  {
   "cell_type": "code",
   "execution_count": null,
   "metadata": {},
   "outputs": [],
   "source": []
  },
  {
   "cell_type": "code",
   "execution_count": null,
   "metadata": {},
   "outputs": [],
   "source": []
  },
  {
   "cell_type": "code",
   "execution_count": null,
   "metadata": {},
   "outputs": [],
   "source": []
  },
  {
   "cell_type": "code",
   "execution_count": null,
   "metadata": {},
   "outputs": [],
   "source": []
  },
  {
   "cell_type": "code",
   "execution_count": null,
   "metadata": {},
   "outputs": [],
   "source": []
  },
  {
   "cell_type": "code",
   "execution_count": null,
   "metadata": {},
   "outputs": [],
   "source": []
  },
  {
   "cell_type": "code",
   "execution_count": null,
   "metadata": {},
   "outputs": [],
   "source": []
  },
  {
   "cell_type": "code",
   "execution_count": null,
   "metadata": {},
   "outputs": [],
   "source": []
  },
  {
   "cell_type": "code",
   "execution_count": null,
   "metadata": {},
   "outputs": [],
   "source": []
  },
  {
   "cell_type": "code",
   "execution_count": null,
   "metadata": {},
   "outputs": [],
   "source": []
  },
  {
   "cell_type": "code",
   "execution_count": null,
   "metadata": {},
   "outputs": [],
   "source": []
  },
  {
   "cell_type": "code",
   "execution_count": null,
   "metadata": {},
   "outputs": [],
   "source": []
  },
  {
   "cell_type": "code",
   "execution_count": null,
   "metadata": {},
   "outputs": [],
   "source": []
  },
  {
   "cell_type": "code",
   "execution_count": null,
   "metadata": {},
   "outputs": [],
   "source": []
  },
  {
   "cell_type": "code",
   "execution_count": null,
   "metadata": {},
   "outputs": [],
   "source": []
  },
  {
   "cell_type": "code",
   "execution_count": null,
   "metadata": {},
   "outputs": [],
   "source": []
  },
  {
   "cell_type": "code",
   "execution_count": null,
   "metadata": {},
   "outputs": [],
   "source": []
  },
  {
   "cell_type": "code",
   "execution_count": null,
   "metadata": {},
   "outputs": [],
   "source": []
  },
  {
   "cell_type": "code",
   "execution_count": null,
   "metadata": {},
   "outputs": [],
   "source": []
  },
  {
   "cell_type": "code",
   "execution_count": null,
   "metadata": {},
   "outputs": [],
   "source": []
  },
  {
   "cell_type": "code",
   "execution_count": null,
   "metadata": {},
   "outputs": [],
   "source": []
  },
  {
   "cell_type": "code",
   "execution_count": null,
   "metadata": {},
   "outputs": [],
   "source": []
  },
  {
   "cell_type": "code",
   "execution_count": null,
   "metadata": {},
   "outputs": [],
   "source": []
  },
  {
   "cell_type": "code",
   "execution_count": null,
   "metadata": {},
   "outputs": [],
   "source": []
  },
  {
   "cell_type": "code",
   "execution_count": null,
   "metadata": {},
   "outputs": [],
   "source": []
  },
  {
   "cell_type": "code",
   "execution_count": null,
   "metadata": {},
   "outputs": [],
   "source": []
  },
  {
   "cell_type": "code",
   "execution_count": null,
   "metadata": {},
   "outputs": [],
   "source": []
  }
 ],
 "metadata": {
  "kernelspec": {
   "display_name": "Python 3",
   "language": "python",
   "name": "python3"
  },
  "language_info": {
   "codemirror_mode": {
    "name": "ipython",
    "version": 3
   },
   "file_extension": ".py",
   "mimetype": "text/x-python",
   "name": "python",
   "nbconvert_exporter": "python",
   "pygments_lexer": "ipython3",
   "version": "3.6.8"
  }
 },
 "nbformat": 4,
 "nbformat_minor": 4
}
