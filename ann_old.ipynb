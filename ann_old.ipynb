{
 "cells": [
  {
   "cell_type": "code",
   "execution_count": 2,
   "metadata": {},
   "outputs": [],
   "source": [
    "import numpy as np\n",
    "import pandas as pd\n",
    "import seaborn as sns\n",
    "from matplotlib import pyplot as plt\n",
    "from scipy import stats\n",
    "\n",
    "#import tensorflow as tf\n",
    "import tensorflow.keras as keras\n",
    "import tensorflow.keras.backend as k\n",
    "\n",
    "from tensorflow.keras.models import Model, load_model\n",
    "from tensorflow.keras.layers import Input, Dense, Activation, BatchNormalization, Dropout\n",
    "from tensorflow.keras.callbacks import ReduceLROnPlateau, ModelCheckpoint, Callback, TensorBoard\n",
    "from tensorflow.keras.utils import Sequence, plot_model\n",
    "\n",
    "from IPython.display import Image"
   ]
  },
  {
   "cell_type": "code",
   "execution_count": 3,
   "metadata": {},
   "outputs": [
    {
     "name": "stdout",
     "output_type": "stream",
     "text": [
      "Welcome to JupyROOT 6.18/04\n"
     ]
    }
   ],
   "source": [
    "from root_pandas import read_root"
   ]
  },
  {
   "cell_type": "code",
   "execution_count": 4,
   "metadata": {},
   "outputs": [],
   "source": [
    "fDataNameTrain = \"./tmva/gun_k0L_allgev_FTFP_BERT_160000evt_ILD_l5_v02steel.root\"\n",
    "fTreeNameTrain = \"tree\"\n",
    "\n",
    "#variables = ([\"energy\", \"eecal\", \"ehcal\", \"nhits\", \"nhits_ecal\", \"nhits_hcal\"])\n",
    "variables1 = ([\"n30\", \"n35\", \"n40\", \"n45\", \"n50\", \"n55\", \"n60\", \"n65\", \"n70\", \"n75\", \"n80\", \"nav\", \"c30\", \"c35\", \"c40\", \"c45\", \"c50\", \"c55\", \"c60\", \"c65\", \"c70\", \"c75\", \"c80\", ])\n",
    "variables2 = ([\"muon_energy\", \"muon_energy_hit\", \"muon_nhits\", \"muon_nhits_t\", \"muon_time\", \"muon_layer\"])\n",
    "target = \"mc_energy\"\n",
    "\n",
    "variables = variables1 + variables2\n",
    "\n",
    "def prepare_data(fName, treeName):\n",
    "#    data = read_root(fName, treeName, columns=variablesLoad)\n",
    "    data = read_root(fName, treeName)\n",
    "\n",
    "    y = data[ target ].values\n",
    "    \n",
    "    for var in variables:\n",
    "        data.drop(var, axis=1, inplace=True)\n",
    "    X = data.values\n",
    "\n",
    "    input_shape = X.shape[1:]\n",
    "\n",
    "    #for i in range(input_shape[0]):\n",
    "    #    X[:,i] = (X[:,i] - np.mean(X[:,i]))/np.std(X[:,i])\n",
    "    return data, X, y, input_shape\n",
    "\n",
    "trainData, X_train, y_train, input_shape = prepare_data( fDataNameTrain, fTreeNameTrain)"
   ]
  },
  {
   "cell_type": "code",
   "execution_count": null,
   "metadata": {},
   "outputs": [],
   "source": []
  },
  {
   "cell_type": "code",
   "execution_count": 5,
   "metadata": {},
   "outputs": [],
   "source": [
    "#import pandas as pd\n",
    "#import numpy as np\n",
    "\n",
    "#rs = np.random.RandomState(0)\n",
    "#df = pd.DataFrame(trainData)\n",
    "#corr = df.corr()\n",
    "#corr.style.background_gradient(cmap='coolwarm')\n"
   ]
  },
  {
   "cell_type": "code",
   "execution_count": 6,
   "metadata": {},
   "outputs": [],
   "source": [
    "def loss(y_true, y_pred):\n",
    "    return k.mean( k.square( (y_pred - y_true)/(y_true)  ) )  !!!!!!!!!!!!!!!!!!"
   ]
  },
  {
   "cell_type": "code",
   "execution_count": 7,
   "metadata": {},
   "outputs": [
    {
     "name": "stdout",
     "output_type": "stream",
     "text": [
      "Model: \"model\"\n",
      "_________________________________________________________________\n",
      "Layer (type)                 Output Shape              Param #   \n",
      "=================================================================\n",
      "input_1 (InputLayer)         [(None, 64)]              0         \n",
      "_________________________________________________________________\n",
      "dense_1 (Dense)              (None, 20)                1300      \n",
      "_________________________________________________________________\n",
      "dropout_1 (Dropout)          (None, 20)                0         \n",
      "_________________________________________________________________\n",
      "activation_1 (Activation)    (None, 20)                0         \n",
      "_________________________________________________________________\n",
      "dense_2 (Dense)              (None, 1)                 21        \n",
      "=================================================================\n",
      "Total params: 1,321\n",
      "Trainable params: 1,321\n",
      "Non-trainable params: 0\n",
      "_________________________________________________________________\n"
     ]
    },
    {
     "name": "stderr",
     "output_type": "stream",
     "text": [
      "2020-02-29 01:32:35.855284: W tensorflow/stream_executor/platform/default/dso_loader.cc:55] Could not load dynamic library 'libcuda.so.1'; dlerror: libcuda.so.1: cannot open shared object file: No such file or directory; LD_LIBRARY_PATH: /cvmfs/grid.cern.ch/centos7-wn-4.0.5-1_umd4v1/lib64:/cvmfs/grid.cern.ch/centos7-wn-4.0.5-1_umd4v1/lib:/cvmfs/grid.cern.ch/centos7-wn-4.0.5-1_umd4v1/usr/lib64:/cvmfs/grid.cern.ch/centos7-wn-4.0.5-1_umd4v1/usr/lib:/cvmfs/grid.cern.ch/centos7-wn-4.0.5-1_umd4v1/usr/lib64/dcap\n",
      "2020-02-29 01:32:35.855345: E tensorflow/stream_executor/cuda/cuda_driver.cc:351] failed call to cuInit: UNKNOWN ERROR (303)\n",
      "2020-02-29 01:32:35.855380: I tensorflow/stream_executor/cuda/cuda_diagnostics.cc:156] kernel driver does not appear to be running on this host (batch1051.desy.de): /proc/driver/nvidia/version does not exist\n",
      "2020-02-29 01:32:35.856385: I tensorflow/core/platform/cpu_feature_guard.cc:142] Your CPU supports instructions that this TensorFlow binary was not compiled to use: AVX2 FMA\n",
      "2020-02-29 01:32:35.881629: I tensorflow/core/platform/profile_utils/cpu_utils.cc:94] CPU Frequency: 2299760000 Hz\n",
      "2020-02-29 01:32:35.887527: I tensorflow/compiler/xla/service/service.cc:168] XLA service 0x80887d0 initialized for platform Host (this does not guarantee that XLA will be used). Devices:\n",
      "2020-02-29 01:32:35.887603: I tensorflow/compiler/xla/service/service.cc:176]   StreamExecutor device (0): Host, Default Version\n"
     ]
    }
   ],
   "source": [
    "a = Input(shape=input_shape)\n",
    "b = Dense(30)(a)\n",
    "b = Dropout(rate=0.5)(b)\n",
    "b = Activation('sigmoid')(b)\n",
    "b = Dense(20)(a)\n",
    "b = Dropout(rate=0.5)(b)\n",
    "b = Activation('sigmoid')(b)\n",
    "c = Dense(1)(b)\n",
    "\n",
    "model = Model(inputs = a, outputs = c)\n",
    "\n",
    "optimizer = keras.optimizers.RMSprop(0.0099)\n",
    "#model.compile(loss='mean_squared_error', optimizer='adam')\n",
    "model.compile(loss=loss, optimizer='adam')\n",
    "\n",
    "model.summary()"
   ]
  },
  {
   "cell_type": "code",
   "execution_count": 8,
   "metadata": {},
   "outputs": [],
   "source": [
    "#testData, X_test, y_val3, input_shape3 = prepare_data(fDataNameTest, fTreeNameTest)\n"
   ]
  },
  {
   "cell_type": "code",
   "execution_count": 9,
   "metadata": {},
   "outputs": [],
   "source": [
    "class Stopper(Callback):\n",
    "    \n",
    "    def __init__(self):\n",
    "        self.s_min = 1\n",
    "        self.n = 0\n",
    "        \n",
    "    def on_epoch_end(self, epoch, logs):\n",
    "        y_pred = self.model.predict_on_batch(self.validation_data[0])[:,0]\n",
    "        self.s = stats.ks_2samp(y_pred, self.validation_data[1][:,0]).statistic\n",
    "        print(self.s)\n",
    "        if self.s < self.s_min:\n",
    "            self.s_min = self.s\n",
    "            self.model.save('ANN.h5')\n",
    "        if logs[\"val_loss\"] > logs[\"loss\"]:\n",
    "            self.model.stop_training = True"
   ]
  },
  {
   "cell_type": "code",
   "execution_count": 10,
   "metadata": {
    "scrolled": true
   },
   "outputs": [
    {
     "name": "stdout",
     "output_type": "stream",
     "text": [
      "Train on 97621 samples, validate on 41838 samples\n",
      "Epoch 1/100\n",
      "97621/97621 - 2s - loss: 0.0492 - val_loss: 2.0202e-04\n",
      "Epoch 2/100\n",
      "97621/97621 - 2s - loss: 0.0200 - val_loss: 2.0339e-04\n",
      "Epoch 3/100\n",
      "97621/97621 - 2s - loss: 0.0167 - val_loss: 2.0575e-04\n",
      "Epoch 4/100\n",
      "\n",
      "Epoch 00004: ReduceLROnPlateau reducing learning rate to 0.00010000000474974513.\n",
      "97621/97621 - 2s - loss: 0.0147 - val_loss: 2.0734e-04\n",
      "Epoch 5/100\n",
      "97621/97621 - 2s - loss: 0.0142 - val_loss: 2.0740e-04\n",
      "Epoch 6/100\n",
      "97621/97621 - 2s - loss: 0.0142 - val_loss: 2.0769e-04\n",
      "Epoch 7/100\n",
      "\n",
      "Epoch 00007: ReduceLROnPlateau reducing learning rate to 0.0001.\n",
      "97621/97621 - 2s - loss: 0.0141 - val_loss: 2.0791e-04\n",
      "Epoch 8/100\n",
      "97621/97621 - 2s - loss: 0.0140 - val_loss: 2.0802e-04\n",
      "Epoch 9/100\n",
      "97621/97621 - 2s - loss: 0.0138 - val_loss: 2.0818e-04\n",
      "Epoch 10/100\n",
      "97621/97621 - 2s - loss: 0.0138 - val_loss: 2.0838e-04\n",
      "Epoch 11/100\n",
      "97621/97621 - 2s - loss: 0.0138 - val_loss: 2.0837e-04\n",
      "Epoch 12/100\n",
      "97621/97621 - 2s - loss: 0.0137 - val_loss: 2.0860e-04\n",
      "Epoch 13/100\n",
      "97621/97621 - 2s - loss: 0.0136 - val_loss: 2.0854e-04\n",
      "Epoch 14/100\n",
      "97621/97621 - 2s - loss: 0.0136 - val_loss: 2.0867e-04\n",
      "Epoch 15/100\n",
      "97621/97621 - 2s - loss: 0.0136 - val_loss: 2.0863e-04\n",
      "Epoch 16/100\n",
      "97621/97621 - 2s - loss: 0.0135 - val_loss: 2.0874e-04\n",
      "Epoch 17/100\n",
      "97621/97621 - 2s - loss: 0.0135 - val_loss: 2.0871e-04\n",
      "Epoch 18/100\n",
      "97621/97621 - 2s - loss: 0.0134 - val_loss: 2.0870e-04\n",
      "Epoch 19/100\n",
      "97621/97621 - 2s - loss: 0.0134 - val_loss: 2.0881e-04\n",
      "Epoch 20/100\n",
      "97621/97621 - 2s - loss: 0.0134 - val_loss: 2.0865e-04\n",
      "Epoch 21/100\n",
      "97621/97621 - 2s - loss: 0.0133 - val_loss: 2.0872e-04\n",
      "Epoch 22/100\n",
      "97621/97621 - 2s - loss: 0.0133 - val_loss: 2.0876e-04\n",
      "Epoch 23/100\n",
      "97621/97621 - 2s - loss: 0.0132 - val_loss: 2.0864e-04\n",
      "Epoch 24/100\n",
      "97621/97621 - 2s - loss: 0.0132 - val_loss: 2.0857e-04\n",
      "Epoch 25/100\n",
      "97621/97621 - 2s - loss: 0.0132 - val_loss: 2.0862e-04\n",
      "Epoch 26/100\n",
      "97621/97621 - 2s - loss: 0.0131 - val_loss: 2.0862e-04\n",
      "Epoch 27/100\n",
      "97621/97621 - 2s - loss: 0.0131 - val_loss: 2.0863e-04\n",
      "Epoch 28/100\n",
      "97621/97621 - 2s - loss: 0.0131 - val_loss: 2.0865e-04\n",
      "Epoch 29/100\n",
      "97621/97621 - 2s - loss: 0.0130 - val_loss: 2.0855e-04\n",
      "Epoch 30/100\n",
      "97621/97621 - 2s - loss: 0.0130 - val_loss: 2.0851e-04\n",
      "Epoch 31/100\n",
      "97621/97621 - 2s - loss: 0.0130 - val_loss: 2.0860e-04\n",
      "Epoch 32/100\n",
      "97621/97621 - 2s - loss: 0.0130 - val_loss: 2.0848e-04\n",
      "Epoch 33/100\n",
      "97621/97621 - 2s - loss: 0.0129 - val_loss: 2.0843e-04\n",
      "Epoch 34/100\n",
      "97621/97621 - 2s - loss: 0.0129 - val_loss: 2.0837e-04\n",
      "Epoch 35/100\n",
      "97621/97621 - 2s - loss: 0.0129 - val_loss: 2.0835e-04\n",
      "Epoch 36/100\n",
      "97621/97621 - 2s - loss: 0.0128 - val_loss: 2.0842e-04\n",
      "Epoch 37/100\n",
      "97621/97621 - 2s - loss: 0.0128 - val_loss: 2.0836e-04\n",
      "Epoch 38/100\n",
      "97621/97621 - 2s - loss: 0.0128 - val_loss: 2.0827e-04\n",
      "Epoch 39/100\n",
      "97621/97621 - 2s - loss: 0.0127 - val_loss: 2.0810e-04\n",
      "Epoch 40/100\n",
      "97621/97621 - 2s - loss: 0.0127 - val_loss: 2.0809e-04\n",
      "Epoch 41/100\n",
      "97621/97621 - 2s - loss: 0.0127 - val_loss: 2.0819e-04\n",
      "Epoch 42/100\n",
      "97621/97621 - 2s - loss: 0.0127 - val_loss: 2.0806e-04\n",
      "Epoch 43/100\n",
      "97621/97621 - 2s - loss: 0.0126 - val_loss: 2.0810e-04\n",
      "Epoch 44/100\n",
      "97621/97621 - 2s - loss: 0.0126 - val_loss: 2.0802e-04\n",
      "Epoch 45/100\n",
      "97621/97621 - 2s - loss: 0.0126 - val_loss: 2.0803e-04\n",
      "Epoch 46/100\n",
      "97621/97621 - 2s - loss: 0.0125 - val_loss: 2.0807e-04\n",
      "Epoch 47/100\n",
      "97621/97621 - 2s - loss: 0.0125 - val_loss: 2.0809e-04\n",
      "Epoch 48/100\n",
      "97621/97621 - 2s - loss: 0.0125 - val_loss: 2.0801e-04\n",
      "Epoch 49/100\n",
      "97621/97621 - 2s - loss: 0.0125 - val_loss: 2.0805e-04\n",
      "Epoch 50/100\n",
      "97621/97621 - 2s - loss: 0.0124 - val_loss: 2.0796e-04\n",
      "Epoch 51/100\n",
      "97621/97621 - 2s - loss: 0.0124 - val_loss: 2.0794e-04\n",
      "Epoch 52/100\n",
      "97621/97621 - 2s - loss: 0.0124 - val_loss: 2.0802e-04\n",
      "Epoch 53/100\n",
      "97621/97621 - 2s - loss: 0.0124 - val_loss: 2.0793e-04\n",
      "Epoch 54/100\n",
      "97621/97621 - 2s - loss: 0.0124 - val_loss: 2.0795e-04\n",
      "Epoch 55/100\n",
      "97621/97621 - 2s - loss: 0.0123 - val_loss: 2.0789e-04\n",
      "Epoch 56/100\n",
      "97621/97621 - 2s - loss: 0.0123 - val_loss: 2.0799e-04\n",
      "Epoch 57/100\n",
      "97621/97621 - 2s - loss: 0.0123 - val_loss: 2.0785e-04\n",
      "Epoch 58/100\n",
      "97621/97621 - 2s - loss: 0.0123 - val_loss: 2.0785e-04\n",
      "Epoch 59/100\n",
      "97621/97621 - 2s - loss: 0.0122 - val_loss: 2.0789e-04\n",
      "Epoch 60/100\n",
      "97621/97621 - 2s - loss: 0.0123 - val_loss: 2.0797e-04\n",
      "Epoch 61/100\n",
      "97621/97621 - 2s - loss: 0.0122 - val_loss: 2.0789e-04\n",
      "Epoch 62/100\n",
      "97621/97621 - 2s - loss: 0.0122 - val_loss: 2.0793e-04\n",
      "Epoch 63/100\n",
      "97621/97621 - 2s - loss: 0.0122 - val_loss: 2.0800e-04\n",
      "Epoch 64/100\n",
      "97621/97621 - 2s - loss: 0.0121 - val_loss: 2.0790e-04\n",
      "Epoch 65/100\n",
      "97621/97621 - 2s - loss: 0.0121 - val_loss: 2.0789e-04\n",
      "Epoch 66/100\n",
      "97621/97621 - 2s - loss: 0.0121 - val_loss: 2.0794e-04\n",
      "Epoch 67/100\n",
      "97621/97621 - 2s - loss: 0.0121 - val_loss: 2.0801e-04\n",
      "Epoch 68/100\n",
      "97621/97621 - 2s - loss: 0.0120 - val_loss: 2.0799e-04\n",
      "Epoch 69/100\n",
      "97621/97621 - 2s - loss: 0.0121 - val_loss: 2.0791e-04\n",
      "Epoch 70/100\n",
      "97621/97621 - 2s - loss: 0.0120 - val_loss: 2.0791e-04\n",
      "Epoch 71/100\n",
      "97621/97621 - 2s - loss: 0.0120 - val_loss: 2.0791e-04\n",
      "Epoch 72/100\n",
      "97621/97621 - 2s - loss: 0.0120 - val_loss: 2.0786e-04\n",
      "Epoch 73/100\n",
      "97621/97621 - 2s - loss: 0.0120 - val_loss: 2.0780e-04\n",
      "Epoch 74/100\n",
      "97621/97621 - 2s - loss: 0.0120 - val_loss: 2.0774e-04\n",
      "Epoch 75/100\n",
      "97621/97621 - 2s - loss: 0.0120 - val_loss: 2.0768e-04\n",
      "Epoch 76/100\n",
      "97621/97621 - 2s - loss: 0.0120 - val_loss: 2.0773e-04\n",
      "Epoch 77/100\n",
      "97621/97621 - 2s - loss: 0.0119 - val_loss: 2.0772e-04\n",
      "Epoch 78/100\n",
      "97621/97621 - 2s - loss: 0.0119 - val_loss: 2.0772e-04\n",
      "Epoch 79/100\n",
      "97621/97621 - 2s - loss: 0.0119 - val_loss: 2.0767e-04\n",
      "Epoch 80/100\n",
      "97621/97621 - 2s - loss: 0.0119 - val_loss: 2.0751e-04\n",
      "Epoch 81/100\n",
      "97621/97621 - 2s - loss: 0.0119 - val_loss: 2.0752e-04\n",
      "Epoch 82/100\n",
      "97621/97621 - 2s - loss: 0.0119 - val_loss: 2.0747e-04\n",
      "Epoch 83/100\n",
      "97621/97621 - 2s - loss: 0.0119 - val_loss: 2.0745e-04\n",
      "Epoch 84/100\n",
      "97621/97621 - 2s - loss: 0.0119 - val_loss: 2.0748e-04\n",
      "Epoch 85/100\n",
      "97621/97621 - 2s - loss: 0.0119 - val_loss: 2.0743e-04\n",
      "Epoch 86/100\n",
      "97621/97621 - 2s - loss: 0.0119 - val_loss: 2.0744e-04\n",
      "Epoch 87/100\n",
      "97621/97621 - 2s - loss: 0.0118 - val_loss: 2.0737e-04\n",
      "Epoch 88/100\n",
      "97621/97621 - 2s - loss: 0.0118 - val_loss: 2.0744e-04\n",
      "Epoch 89/100\n",
      "97621/97621 - 2s - loss: 0.0118 - val_loss: 2.0728e-04\n",
      "Epoch 90/100\n",
      "97621/97621 - 2s - loss: 0.0118 - val_loss: 2.0731e-04\n",
      "Epoch 91/100\n",
      "97621/97621 - 2s - loss: 0.0118 - val_loss: 2.0726e-04\n",
      "Epoch 92/100\n",
      "97621/97621 - 2s - loss: 0.0118 - val_loss: 2.0729e-04\n",
      "Epoch 93/100\n",
      "97621/97621 - 2s - loss: 0.0118 - val_loss: 2.0706e-04\n",
      "Epoch 94/100\n",
      "97621/97621 - 2s - loss: 0.0118 - val_loss: 2.0723e-04\n",
      "Epoch 95/100\n",
      "97621/97621 - 2s - loss: 0.0117 - val_loss: 2.0712e-04\n",
      "Epoch 96/100\n",
      "97621/97621 - 2s - loss: 0.0117 - val_loss: 2.0711e-04\n",
      "Epoch 97/100\n",
      "97621/97621 - 2s - loss: 0.0118 - val_loss: 2.0709e-04\n",
      "Epoch 98/100\n",
      "97621/97621 - 2s - loss: 0.0118 - val_loss: 2.0707e-04\n",
      "Epoch 99/100\n",
      "97621/97621 - 2s - loss: 0.0117 - val_loss: 2.0704e-04\n",
      "Epoch 100/100\n",
      "97621/97621 - 2s - loss: 0.0117 - val_loss: 2.0700e-04\n"
     ]
    }
   ],
   "source": [
    "stop = Stopper()\n",
    "# checkpoint = ModelCheckpoint('ANNCorr.h5', monitor='val_loss', verbose=1, save_best_only=True, mode='min')\n",
    "reduce_lr = ReduceLROnPlateau(monitor='val_loss', factor=0.1, patience=3, min_lr=0.0001, verbose=1)\n",
    "# tb = TensorBoard(log_dir='./logs', histogram_freq=1)\n",
    "\n",
    "history_train = model.fit(X_train, y_train, epochs=100, batch_size=128, validation_split=0.3, verbose=2, callbacks=[reduce_lr])\n",
    "#history_test = model.fit(X_test, y_val3, epochs=100, batch_size=128, validation_split=0.3, verbose=2, callbacks=[reduce_lr])"
   ]
  },
  {
   "cell_type": "code",
   "execution_count": null,
   "metadata": {},
   "outputs": [],
   "source": [
    "model.save('ANN.h5')\n",
    "model = load_model('ANN.h5')"
   ]
  },
  {
   "cell_type": "code",
   "execution_count": 12,
   "metadata": {},
   "outputs": [],
   "source": [
    "def kss(y_true, y_pred):\n",
    "    y1 = K.cast(tf.sort(y_true), dtype='float32')\n",
    "    y2 = K.cast(tf.sort(y_pred), dtype='float32')\n",
    "    n1 = K.cast(K.shape(y1), dtype='float32')\n",
    "    n2 = K.cast(K.shape(y2), dtype='float32')\n",
    "    y_all = K.concatenate([y1, y2])\n",
    "    cdf1 = K.cast(tf.searchsorted(y1, y_all, side='right'), dtype='float32') / n1\n",
    "    cdf2 = K.cast(tf.searchsorted(y2, y_all, side='right'), dtype='float32') / n2\n",
    "    return K.max(K.abs(cdf1 - cdf2))"
   ]
  },
  {
   "cell_type": "code",
   "execution_count": 13,
   "metadata": {},
   "outputs": [],
   "source": [
    "# a = Input(shape=input_shape)\n",
    "# b = Dense(5, kernel_regularizer=regularizers.l2(0.01))(a)\n",
    "# b = Activation('relu')(b)\n",
    "# b = Dropout(rate=0.8)(b)\n",
    "# b = Dense(10, kernel_regularizer=regularizers.l2(0.01))(b)\n",
    "# b = Activation('relu')(b)\n",
    "# b = Dropout(rate=0.8)(b)\n",
    "# b = Dense(20, kernel_regularizer=regularizers.l2(0.01))(b)\n",
    "# b = Activation('relu')(b)\n",
    "# b = Dropout(rate=0.8)(b)\n",
    "# b = Dense(10, kernel_regularizer=regularizers.l2(0.01))(b)\n",
    "# b = Activation('relu')(b)\n",
    "# b = Dropout(rate=0.8)(b)\n",
    "# b = Dense(5, kernel_regularizer=regularizers.l2(0.01))(b)\n",
    "# b = Activation('relu')(b)\n",
    "# c = Dense(1)(a)\n",
    "\n",
    "# model = Model(inputs = a, outputs = c)\n",
    "\n",
    "# model.compile(loss=loss, optimizer='adam', metrics=['mean_squared_error'])"
   ]
  },
  {
   "cell_type": "code",
   "execution_count": 14,
   "metadata": {
    "scrolled": true
   },
   "outputs": [],
   "source": [
    "#import pydot\n",
    "#from pydototprint import\n",
    "#plot_model(model, to_file='model.png', show_shapes=True)\n",
    "#Image('model.png')"
   ]
  },
  {
   "cell_type": "code",
   "execution_count": 15,
   "metadata": {},
   "outputs": [
    {
     "data": {
      "text/plain": [
       "dict_keys(['loss', 'val_loss', 'lr'])"
      ]
     },
     "execution_count": 15,
     "metadata": {},
     "output_type": "execute_result"
    }
   ],
   "source": [
    "history_train.history.keys()"
   ]
  },
  {
   "cell_type": "code",
   "execution_count": 16,
   "metadata": {},
   "outputs": [
    {
     "ename": "NameError",
     "evalue": "name 'history_test' is not defined",
     "output_type": "error",
     "traceback": [
      "\u001b[0;31m---------------------------------------------------------------------------\u001b[0m",
      "\u001b[0;31mNameError\u001b[0m                                 Traceback (most recent call last)",
      "\u001b[0;32m<ipython-input-16-1e3deda48a4d>\u001b[0m in \u001b[0;36m<module>\u001b[0;34m\u001b[0m\n\u001b[0;32m----> 1\u001b[0;31m \u001b[0mhistory_test\u001b[0m\u001b[0;34m.\u001b[0m\u001b[0mhistory\u001b[0m\u001b[0;34m.\u001b[0m\u001b[0mkeys\u001b[0m\u001b[0;34m(\u001b[0m\u001b[0;34m)\u001b[0m\u001b[0;34m\u001b[0m\u001b[0;34m\u001b[0m\u001b[0m\n\u001b[0m",
      "\u001b[0;31mNameError\u001b[0m: name 'history_test' is not defined"
     ]
    }
   ],
   "source": [
    "history_test.history.keys()"
   ]
  },
  {
   "cell_type": "code",
   "execution_count": 17,
   "metadata": {},
   "outputs": [
    {
     "data": {
      "image/png": "[encoded data removed]",
      "text/plain": [
       "<Figure size 432x288 with 1 Axes>"
      ]
     },
     "metadata": {
      "needs_background": "light"
     },
     "output_type": "display_data"
    }
   ],
   "source": [
    "plt.plot(history_train.history['loss'])\n",
    "plt.plot(history_train.history['val_loss'])\n",
    "plt.plot(history_train.history['lr'])\n",
    "plt.title('Model loss')\n",
    "plt.ylabel('Loss')\n",
    "plt.xlabel('Epoch')\n",
    "plt.legend(['loss', 'val_loss', 'lr'], loc='upper right')\n",
    "plt.show()"
   ]
  },
  {
   "cell_type": "code",
   "execution_count": 18,
   "metadata": {},
   "outputs": [
    {
     "ename": "ValueError",
     "evalue": "Error when checking input: expected input_1 to have shape (64,) but got array with shape (1,)",
     "output_type": "error",
     "traceback": [
      "\u001b[0;31m---------------------------------------------------------------------------\u001b[0m",
      "\u001b[0;31mValueError\u001b[0m                                Traceback (most recent call last)",
      "\u001b[0;32m<ipython-input-18-d3685a549852>\u001b[0m in \u001b[0;36m<module>\u001b[0;34m\u001b[0m\n\u001b[0;32m----> 1\u001b[0;31m \u001b[0mmodel\u001b[0m\u001b[0;34m.\u001b[0m\u001b[0mpredict\u001b[0m\u001b[0;34m(\u001b[0m \u001b[0;34m[\u001b[0m \u001b[0;36m45\u001b[0m \u001b[0;34m]\u001b[0m \u001b[0;34m)\u001b[0m\u001b[0;34m\u001b[0m\u001b[0;34m\u001b[0m\u001b[0m\n\u001b[0m",
      "\u001b[0;32m/usr/local/lib64/python3.6/site-packages/tensorflow_core/python/keras/engine/training.py\u001b[0m in \u001b[0;36mpredict\u001b[0;34m(self, x, batch_size, verbose, steps, callbacks, max_queue_size, workers, use_multiprocessing)\u001b[0m\n\u001b[1;32m   1011\u001b[0m         \u001b[0mmax_queue_size\u001b[0m\u001b[0;34m=\u001b[0m\u001b[0mmax_queue_size\u001b[0m\u001b[0;34m,\u001b[0m\u001b[0;34m\u001b[0m\u001b[0;34m\u001b[0m\u001b[0m\n\u001b[1;32m   1012\u001b[0m         \u001b[0mworkers\u001b[0m\u001b[0;34m=\u001b[0m\u001b[0mworkers\u001b[0m\u001b[0;34m,\u001b[0m\u001b[0;34m\u001b[0m\u001b[0;34m\u001b[0m\u001b[0m\n\u001b[0;32m-> 1013\u001b[0;31m         use_multiprocessing=use_multiprocessing)\n\u001b[0m\u001b[1;32m   1014\u001b[0m \u001b[0;34m\u001b[0m\u001b[0m\n\u001b[1;32m   1015\u001b[0m   \u001b[0;32mdef\u001b[0m \u001b[0mreset_metrics\u001b[0m\u001b[0;34m(\u001b[0m\u001b[0mself\u001b[0m\u001b[0;34m)\u001b[0m\u001b[0;34m:\u001b[0m\u001b[0;34m\u001b[0m\u001b[0;34m\u001b[0m\u001b[0m\n",
      "\u001b[0;32m/usr/local/lib64/python3.6/site-packages/tensorflow_core/python/keras/engine/training_v2.py\u001b[0m in \u001b[0;36mpredict\u001b[0;34m(self, model, x, batch_size, verbose, steps, callbacks, max_queue_size, workers, use_multiprocessing, **kwargs)\u001b[0m\n\u001b[1;32m    496\u001b[0m         \u001b[0mmodel\u001b[0m\u001b[0;34m,\u001b[0m \u001b[0mModeKeys\u001b[0m\u001b[0;34m.\u001b[0m\u001b[0mPREDICT\u001b[0m\u001b[0;34m,\u001b[0m \u001b[0mx\u001b[0m\u001b[0;34m=\u001b[0m\u001b[0mx\u001b[0m\u001b[0;34m,\u001b[0m \u001b[0mbatch_size\u001b[0m\u001b[0;34m=\u001b[0m\u001b[0mbatch_size\u001b[0m\u001b[0;34m,\u001b[0m \u001b[0mverbose\u001b[0m\u001b[0;34m=\u001b[0m\u001b[0mverbose\u001b[0m\u001b[0;34m,\u001b[0m\u001b[0;34m\u001b[0m\u001b[0;34m\u001b[0m\u001b[0m\n\u001b[1;32m    497\u001b[0m         \u001b[0msteps\u001b[0m\u001b[0;34m=\u001b[0m\u001b[0msteps\u001b[0m\u001b[0;34m,\u001b[0m \u001b[0mcallbacks\u001b[0m\u001b[0;34m=\u001b[0m\u001b[0mcallbacks\u001b[0m\u001b[0;34m,\u001b[0m \u001b[0mmax_queue_size\u001b[0m\u001b[0;34m=\u001b[0m\u001b[0mmax_queue_size\u001b[0m\u001b[0;34m,\u001b[0m\u001b[0;34m\u001b[0m\u001b[0;34m\u001b[0m\u001b[0m\n\u001b[0;32m--> 498\u001b[0;31m         workers=workers, use_multiprocessing=use_multiprocessing, **kwargs)\n\u001b[0m\u001b[1;32m    499\u001b[0m \u001b[0;34m\u001b[0m\u001b[0m\n\u001b[1;32m    500\u001b[0m \u001b[0;34m\u001b[0m\u001b[0m\n",
      "\u001b[0;32m/usr/local/lib64/python3.6/site-packages/tensorflow_core/python/keras/engine/training_v2.py\u001b[0m in \u001b[0;36m_model_iteration\u001b[0;34m(self, model, mode, x, y, batch_size, verbose, sample_weight, steps, callbacks, max_queue_size, workers, use_multiprocessing, **kwargs)\u001b[0m\n\u001b[1;32m    424\u001b[0m           \u001b[0mmax_queue_size\u001b[0m\u001b[0;34m=\u001b[0m\u001b[0mmax_queue_size\u001b[0m\u001b[0;34m,\u001b[0m\u001b[0;34m\u001b[0m\u001b[0;34m\u001b[0m\u001b[0m\n\u001b[1;32m    425\u001b[0m           \u001b[0mworkers\u001b[0m\u001b[0;34m=\u001b[0m\u001b[0mworkers\u001b[0m\u001b[0;34m,\u001b[0m\u001b[0;34m\u001b[0m\u001b[0;34m\u001b[0m\u001b[0m\n\u001b[0;32m--> 426\u001b[0;31m           use_multiprocessing=use_multiprocessing)\n\u001b[0m\u001b[1;32m    427\u001b[0m       \u001b[0mtotal_samples\u001b[0m \u001b[0;34m=\u001b[0m \u001b[0m_get_total_number_of_samples\u001b[0m\u001b[0;34m(\u001b[0m\u001b[0madapter\u001b[0m\u001b[0;34m)\u001b[0m\u001b[0;34m\u001b[0m\u001b[0;34m\u001b[0m\u001b[0m\n\u001b[1;32m    428\u001b[0m       \u001b[0muse_sample\u001b[0m \u001b[0;34m=\u001b[0m \u001b[0mtotal_samples\u001b[0m \u001b[0;32mis\u001b[0m \u001b[0;32mnot\u001b[0m \u001b[0;32mNone\u001b[0m\u001b[0;34m\u001b[0m\u001b[0;34m\u001b[0m\u001b[0m\n",
      "\u001b[0;32m/usr/local/lib64/python3.6/site-packages/tensorflow_core/python/keras/engine/training_v2.py\u001b[0m in \u001b[0;36m_process_inputs\u001b[0;34m(model, mode, x, y, batch_size, epochs, sample_weights, class_weights, shuffle, steps, distribution_strategy, max_queue_size, workers, use_multiprocessing)\u001b[0m\n\u001b[1;32m    704\u001b[0m       \u001b[0mmax_queue_size\u001b[0m\u001b[0;34m=\u001b[0m\u001b[0mmax_queue_size\u001b[0m\u001b[0;34m,\u001b[0m\u001b[0;34m\u001b[0m\u001b[0;34m\u001b[0m\u001b[0m\n\u001b[1;32m    705\u001b[0m       \u001b[0mworkers\u001b[0m\u001b[0;34m=\u001b[0m\u001b[0mworkers\u001b[0m\u001b[0;34m,\u001b[0m\u001b[0;34m\u001b[0m\u001b[0;34m\u001b[0m\u001b[0m\n\u001b[0;32m--> 706\u001b[0;31m       use_multiprocessing=use_multiprocessing)\n\u001b[0m\u001b[1;32m    707\u001b[0m \u001b[0;34m\u001b[0m\u001b[0m\n\u001b[1;32m    708\u001b[0m   \u001b[0;32mreturn\u001b[0m \u001b[0madapter\u001b[0m\u001b[0;34m\u001b[0m\u001b[0;34m\u001b[0m\u001b[0m\n",
      "\u001b[0;32m/usr/local/lib64/python3.6/site-packages/tensorflow_core/python/keras/engine/data_adapter.py\u001b[0m in \u001b[0;36m__init__\u001b[0;34m(self, x, y, sample_weights, sample_weight_modes, batch_size, shuffle, standardize_function, **kwargs)\u001b[0m\n\u001b[1;32m    655\u001b[0m     \u001b[0;32mif\u001b[0m \u001b[0mstandardize_function\u001b[0m \u001b[0;32mis\u001b[0m \u001b[0;32mnot\u001b[0m \u001b[0;32mNone\u001b[0m\u001b[0;34m:\u001b[0m\u001b[0;34m\u001b[0m\u001b[0;34m\u001b[0m\u001b[0m\n\u001b[1;32m    656\u001b[0m       x, y, sample_weights = standardize_function(\n\u001b[0;32m--> 657\u001b[0;31m           x=x, y=y, sample_weight=sample_weights)\n\u001b[0m\u001b[1;32m    658\u001b[0m \u001b[0;34m\u001b[0m\u001b[0m\n\u001b[1;32m    659\u001b[0m     self._internal_adapter = TensorLikeDataAdapter(\n",
      "\u001b[0;32m/usr/local/lib64/python3.6/site-packages/tensorflow_core/python/keras/engine/training.py\u001b[0m in \u001b[0;36m_standardize_user_data\u001b[0;34m(self, x, y, sample_weight, class_weight, batch_size, check_steps, steps_name, steps, validation_split, shuffle, extract_tensors_from_dataset)\u001b[0m\n\u001b[1;32m   2381\u001b[0m         \u001b[0mis_dataset\u001b[0m\u001b[0;34m=\u001b[0m\u001b[0mis_dataset\u001b[0m\u001b[0;34m,\u001b[0m\u001b[0;34m\u001b[0m\u001b[0;34m\u001b[0m\u001b[0m\n\u001b[1;32m   2382\u001b[0m         \u001b[0mclass_weight\u001b[0m\u001b[0;34m=\u001b[0m\u001b[0mclass_weight\u001b[0m\u001b[0;34m,\u001b[0m\u001b[0;34m\u001b[0m\u001b[0;34m\u001b[0m\u001b[0m\n\u001b[0;32m-> 2383\u001b[0;31m         batch_size=batch_size)\n\u001b[0m\u001b[1;32m   2384\u001b[0m \u001b[0;34m\u001b[0m\u001b[0m\n\u001b[1;32m   2385\u001b[0m   def _standardize_tensors(self, x, y, sample_weight, run_eagerly, dict_inputs,\n",
      "\u001b[0;32m/usr/local/lib64/python3.6/site-packages/tensorflow_core/python/keras/engine/training.py\u001b[0m in \u001b[0;36m_standardize_tensors\u001b[0;34m(self, x, y, sample_weight, run_eagerly, dict_inputs, is_dataset, class_weight, batch_size)\u001b[0m\n\u001b[1;32m   2408\u001b[0m           \u001b[0mfeed_input_shapes\u001b[0m\u001b[0;34m,\u001b[0m\u001b[0;34m\u001b[0m\u001b[0;34m\u001b[0m\u001b[0m\n\u001b[1;32m   2409\u001b[0m           \u001b[0mcheck_batch_axis\u001b[0m\u001b[0;34m=\u001b[0m\u001b[0;32mFalse\u001b[0m\u001b[0;34m,\u001b[0m  \u001b[0;31m# Don't enforce the batch size.\u001b[0m\u001b[0;34m\u001b[0m\u001b[0;34m\u001b[0m\u001b[0m\n\u001b[0;32m-> 2410\u001b[0;31m           exception_prefix='input')\n\u001b[0m\u001b[1;32m   2411\u001b[0m \u001b[0;34m\u001b[0m\u001b[0m\n\u001b[1;32m   2412\u001b[0m     \u001b[0;31m# Get typespecs for the input data and sanitize it if necessary.\u001b[0m\u001b[0;34m\u001b[0m\u001b[0;34m\u001b[0m\u001b[0;34m\u001b[0m\u001b[0m\n",
      "\u001b[0;32m/usr/local/lib64/python3.6/site-packages/tensorflow_core/python/keras/engine/training_utils.py\u001b[0m in \u001b[0;36mstandardize_input_data\u001b[0;34m(data, names, shapes, check_batch_axis, exception_prefix)\u001b[0m\n\u001b[1;32m    580\u001b[0m                              \u001b[0;34m': expected '\u001b[0m \u001b[0;34m+\u001b[0m \u001b[0mnames\u001b[0m\u001b[0;34m[\u001b[0m\u001b[0mi\u001b[0m\u001b[0;34m]\u001b[0m \u001b[0;34m+\u001b[0m \u001b[0;34m' to have shape '\u001b[0m \u001b[0;34m+\u001b[0m\u001b[0;34m\u001b[0m\u001b[0;34m\u001b[0m\u001b[0m\n\u001b[1;32m    581\u001b[0m                              \u001b[0mstr\u001b[0m\u001b[0;34m(\u001b[0m\u001b[0mshape\u001b[0m\u001b[0;34m)\u001b[0m \u001b[0;34m+\u001b[0m \u001b[0;34m' but got array with shape '\u001b[0m \u001b[0;34m+\u001b[0m\u001b[0;34m\u001b[0m\u001b[0;34m\u001b[0m\u001b[0m\n\u001b[0;32m--> 582\u001b[0;31m                              str(data_shape))\n\u001b[0m\u001b[1;32m    583\u001b[0m   \u001b[0;32mreturn\u001b[0m \u001b[0mdata\u001b[0m\u001b[0;34m\u001b[0m\u001b[0;34m\u001b[0m\u001b[0m\n\u001b[1;32m    584\u001b[0m \u001b[0;34m\u001b[0m\u001b[0m\n",
      "\u001b[0;31mValueError\u001b[0m: Error when checking input: expected input_1 to have shape (64,) but got array with shape (1,)"
     ]
    }
   ],
   "source": [
    "model.predict( [ 45 ] )"
   ]
  },
  {
   "cell_type": "code",
   "execution_count": 19,
   "metadata": {},
   "outputs": [],
   "source": [
    "test = read_root(\"./data/gun_k0L_5gev_FTFP_BERT_5000evt_ILD_l5_v02steel.root\", \"tree\")"
   ]
  },
  {
   "cell_type": "code",
   "execution_count": 20,
   "metadata": {},
   "outputs": [],
   "source": [
    "variables_test = ([\"n30\", \"n35\", \"n40\", \"n45\", \"n50\", \"n55\", \"n60\", \"n65\", \"n70\", \"n75\", \"n80\", \"nav\", \"c30\", \"c35\", \"c40\", \"c45\", \"c50\", \"c55\", \"c60\", \"c65\", \"c70\", \"c75\", \"c80\", ])\n"
   ]
  },
  {
   "cell_type": "code",
   "execution_count": 21,
   "metadata": {},
   "outputs": [],
   "source": [
    "aaa = [\"energy\", \"eecal\", \"ehcal\", ]"
   ]
  },
  {
   "cell_type": "code",
   "execution_count": 22,
   "metadata": {},
   "outputs": [],
   "source": [
    "xtest = test[ aaa ].values"
   ]
  },
  {
   "cell_type": "code",
   "execution_count": 23,
   "metadata": {},
   "outputs": [
    {
     "data": {
      "text/plain": [
       "array([[1.4451466],\n",
       "       [1.3157029],\n",
       "       [1.7614647],\n",
       "       ...,\n",
       "       [2.0988173],\n",
       "       [2.0988173],\n",
       "       [2.0988173]], dtype=float32)"
      ]
     },
     "execution_count": 23,
     "metadata": {},
     "output_type": "execute_result"
    }
   ],
   "source": [
    "model.predict( X_train )"
   ]
  },
  {
   "cell_type": "code",
   "execution_count": null,
   "metadata": {},
   "outputs": [],
   "source": []
  }
 ],
 "metadata": {
  "kernelspec": {
   "display_name": "Python 3",
   "language": "python",
   "name": "python3"
  },
  "language_info": {
   "codemirror_mode": {
    "name": "ipython",
    "version": 3
   },
   "file_extension": ".py",
   "mimetype": "text/x-python",
   "name": "python",
   "nbconvert_exporter": "python",
   "pygments_lexer": "ipython3",
   "version": "3.6.8"
  }
 },
 "nbformat": 4,
 "nbformat_minor": 2
}
